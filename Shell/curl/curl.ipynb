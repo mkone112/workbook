{
 "cells": [
  {
   "cell_type": "code",
   "execution_count": 1,
   "metadata": {},
   "outputs": [
    {
     "name": "stdout",
     "output_type": "stream",
     "text": [
      "\n",
      "\n",
      "StatusCode        : 200\n",
      "StatusDescription : OK\n",
      "Content           : [flake8]\n",
      "                    max-line-length = 119\n",
      "                    exclude = .git,*/migrations/*,*/static/CACHE/*\n",
      "                    \n",
      "                    \n",
      "                    [pylint.MASTER]\n",
      "                    load-plugins=pylint_django, pylint_django.checkers.migrations\n",
      "                    ignore-patterns=\"*/migrations/*\"\n",
      "                    \n",
      "                    [pylint....\n",
      "RawContent        : HTTP/1.1 200 OK\n",
      "                    Connection: keep-alive\n",
      "                    Content-Security-Policy: default-src 'none'; style-src 'unsafe-inline'; sandbox\n",
      "                    Strict-Transport-Security: max-age=31536000\n",
      "                    X-Content-Type-Options: nosniff\n",
      "                    ...\n",
      "Forms             : {}\n",
      "Headers           : {[Connection, keep-alive], [Content-Security-Policy, default-src 'none'; style-src \n",
      "                    'unsafe-inline'; sandbox], [Strict-Transport-Security, max-age=31536000], [X-Content-Type-Options, \n",
      "                    nosniff]...}\n",
      "Images            : {}\n",
      "InputFields       : {}\n",
      "Links             : {}\n",
      "ParsedHtml        : mshtml.HTMLDocumentClass\n",
      "RawContentLength  : 324\n",
      "\n",
      "\n",
      "\n"
     ]
    }
   ],
   "source": [
    "curl https://raw.githubusercontent.com/mk-dv/django_rest_simplest/master/setup.cfg"
   ]
  },
  {
   "cell_type": "code",
   "execution_count": 6,
   "metadata": {},
   "outputs": [
    {
     "name": "stdout",
     "output_type": "stream",
     "text": [
      ". {\n",
      ">> curl -O https://raw.githubusercontent.com/mk-dv/django_rest_simplest/master/setup.cfg\n",
      ">> }\n",
      ">> \n",
      "Invoke-WebRequest : Cannot process command because of one or more missing mandatory parameters: Uri.\n",
      "At line:2 char:1\n",
      "+ curl -O https://raw.githubusercontent.com/mk-dv/django_rest_simplest/ ...\n",
      "+ ~~~~~~~~~~~~~~~~~~~~~~~~~~~~~~~~~~~~~~~~~~~~~~~~~~~~~~~~~~~~~~~~~~~~~\n",
      "    + CategoryInfo          : InvalidArgument: (:) [Invoke-WebRequest], ParameterBindingException\n",
      "    + FullyQualifiedErrorId : MissingMandatoryParameter,Microsoft.PowerShell.Commands.InvokeWebRequestCommand\n",
      " \n"
     ]
    }
   ],
   "source": [
    "curl -O https://raw.githubusercontent.com/mk-dv/django_rest_simplest/master/setup.cfg"
   ]
  }
 ],
 "metadata": {
  "kernelspec": {
   "display_name": "PowerShell",
   "language": "powershell",
   "name": "powershell"
  },
  "language_info": {
   "codemirror_mode": "shell",
   "file_extension": ".ps1",
   "mimetype": "text/x-sh",
   "name": "powershell"
  }
 },
 "nbformat": 4,
 "nbformat_minor": 4
}

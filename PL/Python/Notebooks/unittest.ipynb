{
 "cells": [
  {
   "cell_type": "code",
   "execution_count": 7,
   "metadata": {},
   "outputs": [],
   "source": [
    "import unittest"
   ]
  },
  {
   "cell_type": "code",
   "execution_count": 8,
   "metadata": {},
   "outputs": [
    {
     "data": {
      "text/plain": [
       "['BaseTestSuite',\n",
       " 'FunctionTestCase',\n",
       " 'SkipTest',\n",
       " 'TestCase',\n",
       " 'TestLoader',\n",
       " 'TestProgram',\n",
       " 'TestResult',\n",
       " 'TestSuite',\n",
       " 'TextTestResult',\n",
       " 'TextTestRunner',\n",
       " '_TextTestResult',\n",
       " '__all__',\n",
       " '__builtins__',\n",
       " '__cached__',\n",
       " '__doc__',\n",
       " '__file__',\n",
       " '__loader__',\n",
       " '__name__',\n",
       " '__package__',\n",
       " '__path__',\n",
       " '__spec__',\n",
       " '__unittest',\n",
       " 'case',\n",
       " 'defaultTestLoader',\n",
       " 'expectedFailure',\n",
       " 'findTestCases',\n",
       " 'getTestCaseNames',\n",
       " 'installHandler',\n",
       " 'load_tests',\n",
       " 'loader',\n",
       " 'main',\n",
       " 'makeSuite',\n",
       " 'registerResult',\n",
       " 'removeHandler',\n",
       " 'removeResult',\n",
       " 'result',\n",
       " 'runner',\n",
       " 'signals',\n",
       " 'skip',\n",
       " 'skipIf',\n",
       " 'skipUnless',\n",
       " 'suite',\n",
       " 'util']"
      ]
     },
     "execution_count": 8,
     "metadata": {},
     "output_type": "execute_result"
    }
   ],
   "source": [
    "dir(unittest)"
   ]
  }
 ],
 "metadata": {
  "kernelspec": {
   "display_name": "Python 3",
   "language": "python",
   "name": "python3"
  },
  "language_info": {
   "codemirror_mode": {
    "name": "ipython",
    "version": 3
   },
   "file_extension": ".py",
   "mimetype": "text/x-python",
   "name": "python",
   "nbconvert_exporter": "python",
   "pygments_lexer": "ipython3",
   "version": "3.7.6"
  }
 },
 "nbformat": 4,
 "nbformat_minor": 4
}

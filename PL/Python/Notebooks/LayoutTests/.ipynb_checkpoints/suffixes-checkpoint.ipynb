{
 "cells": [
  {
   "cell_type": "code",
   "execution_count": 1,
   "metadata": {},
   "outputs": [],
   "source": [
    "suffix_source_path = r'C:\\Users\\mkone\\keyboard\\rus_suffixes.txt'"
   ]
  },
  {
   "cell_type": "code",
   "execution_count": 4,
   "metadata": {},
   "outputs": [],
   "source": [
    "import re"
   ]
  },
  {
   "cell_type": "code",
   "execution_count": 14,
   "metadata": {},
   "outputs": [],
   "source": [
    "suffixes = re.findall(r'-\\w*', open(suffix_source_path, encoding='utf-8').read())"
   ]
  },
  {
   "cell_type": "code",
   "execution_count": 21,
   "metadata": {},
   "outputs": [],
   "source": [
    "l = list(\n",
    "    filter(\n",
    "        lambda x: False if (x=='-' or not (set('ёйщъ') & set(x)) )  else True, suffixes\n",
    "    )\n",
    ")"
   ]
  },
  {
   "cell_type": "code",
   "execution_count": 26,
   "metadata": {},
   "outputs": [],
   "source": [
    "l = [suffix[1:] for suffix in l]"
   ]
  },
  {
   "cell_type": "code",
   "execution_count": 28,
   "metadata": {},
   "outputs": [],
   "source": [
    "l = set(l)"
   ]
  },
  {
   "cell_type": "code",
   "execution_count": 29,
   "metadata": {},
   "outputs": [
    {
     "data": {
      "text/plain": [
       "{'',\n",
       " 'аскательной',\n",
       " 'вий',\n",
       " 'вищ',\n",
       " 'вщик',\n",
       " 'вщин',\n",
       " 'ейстер',\n",
       " 'ж',\n",
       " 'жь',\n",
       " 'ий',\n",
       " 'ик',\n",
       " 'ин',\n",
       " 'иц',\n",
       " 'ищ',\n",
       " 'й',\n",
       " 'йк',\n",
       " 'йн',\n",
       " 'йник',\n",
       " 'йск',\n",
       " 'йш',\n",
       " 'кспрессивной',\n",
       " 'л',\n",
       " 'лайды',\n",
       " 'лей',\n",
       " 'м',\n",
       " 'н',\n",
       " 'нн',\n",
       " 'ой',\n",
       " 'р',\n",
       " 'ревосходной',\n",
       " 'рий',\n",
       " 'ск',\n",
       " 'тай',\n",
       " 'х',\n",
       " 'чей',\n",
       " 'чий',\n",
       " 'шк',\n",
       " 'щ',\n",
       " 'щав',\n",
       " 'ьщик',\n",
       " 'ьщин',\n",
       " 'ьщиц',\n",
       " 'ющ',\n",
       " 'яй',\n",
       " 'ёл'}"
      ]
     },
     "execution_count": 29,
     "metadata": {},
     "output_type": "execute_result"
    }
   ],
   "source": [
    "l"
   ]
  }
 ],
 "metadata": {
  "kernelspec": {
   "display_name": "Python 3",
   "language": "python",
   "name": "python3"
  },
  "language_info": {
   "codemirror_mode": {
    "name": "ipython",
    "version": 3
   },
   "file_extension": ".py",
   "mimetype": "text/x-python",
   "name": "python",
   "nbconvert_exporter": "python",
   "pygments_lexer": "ipython3",
   "version": "3.7.6"
  }
 },
 "nbformat": 4,
 "nbformat_minor": 4
}

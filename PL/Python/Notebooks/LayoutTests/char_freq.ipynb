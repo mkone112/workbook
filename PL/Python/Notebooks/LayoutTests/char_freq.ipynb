{
 "cells": [
  {
   "cell_type": "code",
   "execution_count": 3,
   "metadata": {},
   "outputs": [],
   "source": [
    "path = r'c:/users/mkone/temp/lutz_0_v46.py'\n",
    "with open(path, encoding='utf-8') as f:\n",
    "    s = f.read()"
   ]
  },
  {
   "cell_type": "code",
   "execution_count": null,
   "metadata": {},
   "outputs": [],
   "source": []
  },
  {
   "cell_type": "code",
   "execution_count": 4,
   "metadata": {},
   "outputs": [],
   "source": [
    "eng = 'qwertyuiopasdfghjklzxcvbnmQWERTYUIOPASDFGHJKLZXCVBNM'"
   ]
  },
  {
   "cell_type": "code",
   "execution_count": 5,
   "metadata": {},
   "outputs": [],
   "source": [
    "import string"
   ]
  },
  {
   "cell_type": "code",
   "execution_count": null,
   "metadata": {},
   "outputs": [],
   "source": []
  },
  {
   "cell_type": "code",
   "execution_count": 6,
   "metadata": {},
   "outputs": [],
   "source": [
    "t = str.maketrans(string.ascii_letters, len(string.ascii_letters)*' ')"
   ]
  },
  {
   "cell_type": "code",
   "execution_count": 7,
   "metadata": {},
   "outputs": [
    {
     "data": {
      "text/plain": [
       "'abcdefghijklmnopqrstuvwxyzABCDEFGHIJKLMNOPQRSTUVWXYZ'"
      ]
     },
     "execution_count": 7,
     "metadata": {},
     "output_type": "execute_result"
    }
   ],
   "source": [
    "string.ascii_letters"
   ]
  },
  {
   "cell_type": "code",
   "execution_count": 8,
   "metadata": {},
   "outputs": [],
   "source": [
    "s = s.translate(t)"
   ]
  },
  {
   "cell_type": "code",
   "execution_count": 21,
   "metadata": {},
   "outputs": [
    {
     "data": {
      "text/plain": [
       "'       3.  навязал модель         для строк/файлов/библиотек(бесшовная модель        )\\n    переписыв'"
      ]
     },
     "execution_count": 21,
     "metadata": {},
     "output_type": "execute_result"
    }
   ],
   "source": [
    "s[:100]"
   ]
  },
  {
   "cell_type": "code",
   "execution_count": 26,
   "metadata": {},
   "outputs": [],
   "source": [
    "new_path = r'c:/users/mkone/keyboard/rus_text.txt'\n",
    "with open(new_path, 'wt', encoding='utf-8') as fout:\n",
    "    fout.write(s)"
   ]
  },
  {
   "cell_type": "code",
   "execution_count": 9,
   "metadata": {},
   "outputs": [],
   "source": [
    "rus = 'йцукенгшщзхъфывапролджэячсмитьбю'"
   ]
  },
  {
   "cell_type": "code",
   "execution_count": 10,
   "metadata": {},
   "outputs": [],
   "source": [
    "t = str.maketrans(rus, len(rus)*' ')"
   ]
  },
  {
   "cell_type": "code",
   "execution_count": 11,
   "metadata": {},
   "outputs": [],
   "source": [
    "s = s.translate(t)"
   ]
  },
  {
   "cell_type": "code",
   "execution_count": 12,
   "metadata": {},
   "outputs": [
    {
     "data": {
      "text/plain": [
       "'       3.                                  /      /         (                        )\\n             '"
      ]
     },
     "execution_count": 12,
     "metadata": {},
     "output_type": "execute_result"
    }
   ],
   "source": [
    "s[:100]"
   ]
  },
  {
   "cell_type": "code",
   "execution_count": 33,
   "metadata": {},
   "outputs": [
    {
     "ename": "ValueError",
     "evalue": "the first two maketrans arguments must have equal length",
     "output_type": "error",
     "traceback": [
      "\u001b[1;31m---------------------------------------------------------------------------\u001b[0m",
      "\u001b[1;31mValueError\u001b[0m                                Traceback (most recent call last)",
      "\u001b[1;32m<ipython-input-33-51910854000c>\u001b[0m in \u001b[0;36m<module>\u001b[1;34m\u001b[0m\n\u001b[1;32m----> 1\u001b[1;33m \u001b[0ms\u001b[0m \u001b[1;33m=\u001b[0m \u001b[0ms\u001b[0m\u001b[1;33m.\u001b[0m\u001b[0mtranslate\u001b[0m\u001b[1;33m(\u001b[0m\u001b[0mstr\u001b[0m\u001b[1;33m.\u001b[0m\u001b[0mmaketrans\u001b[0m\u001b[1;33m(\u001b[0m\u001b[1;34m' '\u001b[0m\u001b[1;33m,\u001b[0m\u001b[1;34m''\u001b[0m\u001b[1;33m)\u001b[0m\u001b[1;33m)\u001b[0m\u001b[1;33m\u001b[0m\u001b[1;33m\u001b[0m\u001b[0m\n\u001b[0m",
      "\u001b[1;31mValueError\u001b[0m: the first two maketrans arguments must have equal length"
     ]
    }
   ],
   "source": [
    "s = s.translate(str.maketrans(' ',''))"
   ]
  },
  {
   "cell_type": "code",
   "execution_count": 13,
   "metadata": {},
   "outputs": [],
   "source": [
    "s = s.replace(' ','')"
   ]
  },
  {
   "cell_type": "code",
   "execution_count": 14,
   "metadata": {},
   "outputs": [
    {
     "data": {
      "text/plain": [
       "\"3.//()\\n()=>()\\n#2.\\n''>>'\\\\4'\\n-\\n#,,\\n\\n\\n\\n_()->()\\n()2.~3.(())\\n\\n,\\n\\n#,2.,3.5+10-100(7,6)\\n#:../;./.\\n#:.\\n#\\n#Р8\""
      ]
     },
     "execution_count": 14,
     "metadata": {},
     "output_type": "execute_result"
    }
   ],
   "source": [
    "s[:100]"
   ]
  },
  {
   "cell_type": "code",
   "execution_count": 36,
   "metadata": {},
   "outputs": [],
   "source": [
    "s = s.replace('\\n','')"
   ]
  },
  {
   "cell_type": "code",
   "execution_count": 37,
   "metadata": {},
   "outputs": [
    {
     "data": {
      "text/plain": [
       "\"3.//()()=>()#2.''>>'\\\\4'-#,,_()->()()2.~3.(()),#,2.,3.5+10-100(7,6)#:../;./.#:.##Р86(-32),86_64,,(201\""
      ]
     },
     "execution_count": 37,
     "metadata": {},
     "output_type": "execute_result"
    }
   ],
   "source": [
    "s[:100]"
   ]
  },
  {
   "cell_type": "code",
   "execution_count": 38,
   "metadata": {},
   "outputs": [],
   "source": [
    "char_path = r'c:/users/mkone/keyboard/char_text.txt'\n",
    "with open(char_path, 'wt', encoding='utf-8') as fout:\n",
    "    fout.write(s)"
   ]
  },
  {
   "cell_type": "code",
   "execution_count": 39,
   "metadata": {},
   "outputs": [],
   "source": [
    "rus = 'йцукенгшщзхъфывапролджэячсмитьбю'\n",
    "rus = rus.upper()"
   ]
  },
  {
   "cell_type": "code",
   "execution_count": 40,
   "metadata": {},
   "outputs": [
    {
     "data": {
      "text/plain": [
       "'ЙЦУКЕНГШЩЗХЪФЫВАПРОЛДЖЭЯЧСМИТЬБЮ'"
      ]
     },
     "execution_count": 40,
     "metadata": {},
     "output_type": "execute_result"
    }
   ],
   "source": [
    "rus"
   ]
  },
  {
   "cell_type": "code",
   "execution_count": 41,
   "metadata": {},
   "outputs": [],
   "source": [
    "t = str.maketrans(rus, len(rus)*' ')\n",
    "s = s.translate(t)\n",
    "s = s.replace(' ','')"
   ]
  },
  {
   "cell_type": "code",
   "execution_count": 42,
   "metadata": {},
   "outputs": [
    {
     "data": {
      "text/plain": [
       "\"3.//()()=>()#2.''>>'\\\\4'-#,,_()->()()2.~3.(()),#,2.,3.5+10-100(7,6)#:../;./.#:.##86(-32),86_64,,(2013\""
      ]
     },
     "execution_count": 42,
     "metadata": {},
     "output_type": "execute_result"
    }
   ],
   "source": [
    "s[:100]"
   ]
  },
  {
   "cell_type": "code",
   "execution_count": 43,
   "metadata": {},
   "outputs": [],
   "source": [
    "char_path = r'c:/users/mkone/keyboard/char_text.txt'\n",
    "with open(char_path, 'wt', encoding='utf-8') as fout:\n",
    "    fout.write(s)"
   ]
  },
  {
   "cell_type": "code",
   "execution_count": null,
   "metadata": {},
   "outputs": [],
   "source": []
  },
  {
   "cell_type": "code",
   "execution_count": 44,
   "metadata": {},
   "outputs": [],
   "source": [
    "d = dict.fromkeys(set(s),0)\n",
    "for char in s:\n",
    "    d[char] += 1"
   ]
  },
  {
   "cell_type": "code",
   "execution_count": 51,
   "metadata": {},
   "outputs": [],
   "source": [
    "res = {k: v for k, v in sorted(d.items(), key=lambda item: item[1])}"
   ]
  },
  {
   "cell_type": "code",
   "execution_count": 52,
   "metadata": {},
   "outputs": [
    {
     "data": {
      "text/plain": [
       "{'Ñ': 1,\n",
       " '№': 1,\n",
       " '¤': 1,\n",
       " '©': 1,\n",
       " '£': 2,\n",
       " '’': 2,\n",
       " 'Ä': 2,\n",
       " '`': 2,\n",
       " '¬': 3,\n",
       " 'Ё': 3,\n",
       " 'ў': 3,\n",
       " 'Є': 3,\n",
       " '®': 4,\n",
       " 'Ґ': 6,\n",
       " '^': 6,\n",
       " '@': 7,\n",
       " '$': 9,\n",
       " '&': 25,\n",
       " '\\t': 71,\n",
       " '!': 75,\n",
       " '8': 105,\n",
       " '7': 123,\n",
       " '9': 130,\n",
       " '|': 150,\n",
       " '6': 151,\n",
       " '\"': 166,\n",
       " '~': 172,\n",
       " '%': 180,\n",
       " ';': 189,\n",
       " '}': 208,\n",
       " '{': 209,\n",
       " '4': 214,\n",
       " '5': 250,\n",
       " '?': 287,\n",
       " '\\\\': 317,\n",
       " '*': 332,\n",
       " '+': 389,\n",
       " '<': 522,\n",
       " '/': 548,\n",
       " '3': 654,\n",
       " '2': 798,\n",
       " ']': 802,\n",
       " '[': 812,\n",
       " '0': 858,\n",
       " '1': 1029,\n",
       " ':': 1099,\n",
       " '-': 1319,\n",
       " '_': 1362,\n",
       " '=': 1653,\n",
       " '>': 2347,\n",
       " '#': 2550,\n",
       " '.': 2597,\n",
       " \"'\": 2698,\n",
       " ',': 2825,\n",
       " ')': 3495,\n",
       " '(': 3519}"
      ]
     },
     "execution_count": 52,
     "metadata": {},
     "output_type": "execute_result"
    }
   ],
   "source": [
    "res"
   ]
  },
  {
   "cell_type": "code",
   "execution_count": 1,
   "metadata": {},
   "outputs": [],
   "source": [
    "space = ' '"
   ]
  },
  {
   "cell_type": "code",
   "execution_count": 8,
   "metadata": {},
   "outputs": [
    {
     "data": {
      "text/plain": [
       "' '"
      ]
     },
     "execution_count": 8,
     "metadata": {},
     "output_type": "execute_result"
    }
   ],
   "source": [
    "'\\u0020'"
   ]
  }
 ],
 "metadata": {
  "kernelspec": {
   "display_name": "Python 3",
   "language": "python",
   "name": "python3"
  },
  "language_info": {
   "codemirror_mode": {
    "name": "ipython",
    "version": 3
   },
   "file_extension": ".py",
   "mimetype": "text/x-python",
   "name": "python",
   "nbconvert_exporter": "python",
   "pygments_lexer": "ipython3",
   "version": "3.7.6"
  }
 },
 "nbformat": 4,
 "nbformat_minor": 4
}

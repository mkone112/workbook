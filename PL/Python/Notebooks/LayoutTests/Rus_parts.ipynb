{
 "cells": [
  {
   "cell_type": "code",
   "execution_count": 17,
   "metadata": {},
   "outputs": [],
   "source": [
    "root_source_path = r'C:\\Users\\mkone\\keyboard\\rus_roots.txt'"
   ]
  },
  {
   "cell_type": "code",
   "execution_count": null,
   "metadata": {},
   "outputs": [],
   "source": [
    "rus_text ="
   ]
  },
  {
   "cell_type": "code",
   "execution_count": 53,
   "metadata": {},
   "outputs": [],
   "source": [
    "suffix_source_path = r'C:\\Users\\mkone\\keyboard\\rus_suffixes.txt'"
   ]
  },
  {
   "cell_type": "code",
   "execution_count": 19,
   "metadata": {},
   "outputs": [],
   "source": [
    "import regex"
   ]
  },
  {
   "cell_type": "code",
   "execution_count": 20,
   "metadata": {},
   "outputs": [
    {
     "ename": "UnicodeDecodeError",
     "evalue": "'charmap' codec can't decode byte 0x98 in position 2810: character maps to <undefined>",
     "output_type": "error",
     "traceback": [
      "\u001b[1;31m---------------------------------------------------------------------------\u001b[0m",
      "\u001b[1;31mUnicodeDecodeError\u001b[0m                        Traceback (most recent call last)",
      "\u001b[1;32m<ipython-input-20-33c16298abe9>\u001b[0m in \u001b[0;36m<module>\u001b[1;34m\u001b[0m\n\u001b[1;32m----> 1\u001b[1;33m \u001b[0ms\u001b[0m \u001b[1;33m=\u001b[0m \u001b[1;33m*\u001b[0m\u001b[0mopen\u001b[0m\u001b[1;33m(\u001b[0m\u001b[0mroot_source_path\u001b[0m\u001b[1;33m)\u001b[0m\u001b[1;33m,\u001b[0m\u001b[1;33m\u001b[0m\u001b[1;33m\u001b[0m\u001b[0m\n\u001b[0m",
      "\u001b[1;32m~\\anaconda3\\lib\\encodings\\cp1251.py\u001b[0m in \u001b[0;36mdecode\u001b[1;34m(self, input, final)\u001b[0m\n\u001b[0;32m     21\u001b[0m \u001b[1;32mclass\u001b[0m \u001b[0mIncrementalDecoder\u001b[0m\u001b[1;33m(\u001b[0m\u001b[0mcodecs\u001b[0m\u001b[1;33m.\u001b[0m\u001b[0mIncrementalDecoder\u001b[0m\u001b[1;33m)\u001b[0m\u001b[1;33m:\u001b[0m\u001b[1;33m\u001b[0m\u001b[1;33m\u001b[0m\u001b[0m\n\u001b[0;32m     22\u001b[0m     \u001b[1;32mdef\u001b[0m \u001b[0mdecode\u001b[0m\u001b[1;33m(\u001b[0m\u001b[0mself\u001b[0m\u001b[1;33m,\u001b[0m \u001b[0minput\u001b[0m\u001b[1;33m,\u001b[0m \u001b[0mfinal\u001b[0m\u001b[1;33m=\u001b[0m\u001b[1;32mFalse\u001b[0m\u001b[1;33m)\u001b[0m\u001b[1;33m:\u001b[0m\u001b[1;33m\u001b[0m\u001b[1;33m\u001b[0m\u001b[0m\n\u001b[1;32m---> 23\u001b[1;33m         \u001b[1;32mreturn\u001b[0m \u001b[0mcodecs\u001b[0m\u001b[1;33m.\u001b[0m\u001b[0mcharmap_decode\u001b[0m\u001b[1;33m(\u001b[0m\u001b[0minput\u001b[0m\u001b[1;33m,\u001b[0m\u001b[0mself\u001b[0m\u001b[1;33m.\u001b[0m\u001b[0merrors\u001b[0m\u001b[1;33m,\u001b[0m\u001b[0mdecoding_table\u001b[0m\u001b[1;33m)\u001b[0m\u001b[1;33m[\u001b[0m\u001b[1;36m0\u001b[0m\u001b[1;33m]\u001b[0m\u001b[1;33m\u001b[0m\u001b[1;33m\u001b[0m\u001b[0m\n\u001b[0m\u001b[0;32m     24\u001b[0m \u001b[1;33m\u001b[0m\u001b[0m\n\u001b[0;32m     25\u001b[0m \u001b[1;32mclass\u001b[0m \u001b[0mStreamWriter\u001b[0m\u001b[1;33m(\u001b[0m\u001b[0mCodec\u001b[0m\u001b[1;33m,\u001b[0m\u001b[0mcodecs\u001b[0m\u001b[1;33m.\u001b[0m\u001b[0mStreamWriter\u001b[0m\u001b[1;33m)\u001b[0m\u001b[1;33m:\u001b[0m\u001b[1;33m\u001b[0m\u001b[1;33m\u001b[0m\u001b[0m\n",
      "\u001b[1;31mUnicodeDecodeError\u001b[0m: 'charmap' codec can't decode byte 0x98 in position 2810: character maps to <undefined>"
     ]
    }
   ],
   "source": [
    "s = *open(root_source_path),"
   ]
  },
  {
   "cell_type": "code",
   "execution_count": 23,
   "metadata": {},
   "outputs": [],
   "source": [
    "roots = regex.findall(r'[\\p{Lu}]*', open(root_source_path, encoding='utf-8').read())"
   ]
  },
  {
   "cell_type": "code",
   "execution_count": 56,
   "metadata": {},
   "outputs": [],
   "source": [
    "suffixes = regex.findall(r'[\\p{Lu}-]*', '')"
   ]
  },
  {
   "cell_type": "code",
   "execution_count": 57,
   "metadata": {},
   "outputs": [
    {
     "data": {
      "text/plain": [
       "['',\n",
       " 'С',\n",
       " '',\n",
       " '',\n",
       " '',\n",
       " '',\n",
       " 'И',\n",
       " '',\n",
       " '',\n",
       " '',\n",
       " '',\n",
       " '',\n",
       " 'Г',\n",
       " '',\n",
       " '',\n",
       " '',\n",
       " '',\n",
       " '',\n",
       " '',\n",
       " '',\n",
       " '',\n",
       " '',\n",
       " '',\n",
       " '',\n",
       " '',\n",
       " '',\n",
       " '',\n",
       " '',\n",
       " '',\n",
       " '',\n",
       " '',\n",
       " '']"
      ]
     },
     "execution_count": 57,
     "metadata": {},
     "output_type": "execute_result"
    }
   ],
   "source": [
    "suffixes[:32]"
   ]
  },
  {
   "cell_type": "code",
   "execution_count": 45,
   "metadata": {},
   "outputs": [],
   "source": [
    "def f(word):\n",
    "    if word and len(word) > 1:\n",
    "        if set('ЁЙЩЪ') & set(word):\n",
    "            return True\n",
    "        "
   ]
  },
  {
   "cell_type": "code",
   "execution_count": 46,
   "metadata": {},
   "outputs": [],
   "source": [
    "l = list(filter(f, roots))"
   ]
  },
  {
   "cell_type": "code",
   "execution_count": 50,
   "metadata": {},
   "outputs": [],
   "source": [
    "set_of_roots = set(l)"
   ]
  },
  {
   "cell_type": "code",
   "execution_count": 51,
   "metadata": {},
   "outputs": [
    {
     "data": {
      "text/plain": [
       "{'ЁЖ',\n",
       " 'ЁМ',\n",
       " 'ЁР',\n",
       " 'АЙ',\n",
       " 'АЩ',\n",
       " 'БОГАЩ',\n",
       " 'БОЙ',\n",
       " 'БОЙК',\n",
       " 'БУЙ',\n",
       " 'ВЁДР',\n",
       " 'ВЁР',\n",
       " 'ВАЩ',\n",
       " 'ВЕРЕЩ',\n",
       " 'ВЕЩ',\n",
       " 'ВОЙ',\n",
       " 'ВОЙН',\n",
       " 'ВОЩ',\n",
       " 'ВРАЩ',\n",
       " 'ВЪЗЪ',\n",
       " 'ВЬЮЩ',\n",
       " 'ГАЙ',\n",
       " 'ГАЩ',\n",
       " 'ГЕЙ',\n",
       " 'ГЛОЩ',\n",
       " 'ГОЩ',\n",
       " 'ГУЩ',\n",
       " 'ДЕЙ',\n",
       " 'ДЩ',\n",
       " 'ЕЩ',\n",
       " 'ЗНАЙ',\n",
       " 'ИЗЯЩ',\n",
       " 'ИЩ',\n",
       " 'ЙД',\n",
       " 'ЙМ',\n",
       " 'ЙТ',\n",
       " 'КАЩ',\n",
       " 'КЛЕЩ',\n",
       " 'КОЩ',\n",
       " 'КРЁСТ',\n",
       " 'КРАЩ',\n",
       " 'КРЕЩ',\n",
       " 'КРОЩ',\n",
       " 'КУЩ',\n",
       " 'КЪ',\n",
       " 'ЛЁСК',\n",
       " 'ЛЁТ',\n",
       " 'ЛАЩ',\n",
       " 'ЛЕЛЁ',\n",
       " 'ЛЕЩ',\n",
       " 'ЛОЩ',\n",
       " 'ЛУЩ',\n",
       " 'ЛЬЩ',\n",
       " 'МЁРЗ',\n",
       " 'МЁТ',\n",
       " 'МАЩ',\n",
       " 'МЕРЕЩ',\n",
       " 'МЕЩ',\n",
       " 'МОРЩ',\n",
       " 'МОЩ',\n",
       " 'МУЩ',\n",
       " 'МЩ',\n",
       " 'НЁБ',\n",
       " 'НИЩ',\n",
       " 'НОЩ',\n",
       " 'ОБЕЩ',\n",
       " 'ОБРАЩ',\n",
       " 'ОБЩ',\n",
       " 'ОБЪ',\n",
       " 'ОЙ',\n",
       " 'ОЩР',\n",
       " 'ОЩРЕН',\n",
       " 'ПАРТИЙ',\n",
       " 'ПАЩ',\n",
       " 'ПЕРЁД',\n",
       " 'ПЕРВЫЙ',\n",
       " 'ПЕЩ',\n",
       " 'ПЕЩЕР',\n",
       " 'ПЕЩР',\n",
       " 'ПИЩ',\n",
       " 'ПЛЁК',\n",
       " 'ПЛАЩ',\n",
       " 'ПЛОЩ',\n",
       " 'ПЛЮЩ',\n",
       " 'ПОДЪ',\n",
       " 'ПОКОЙ',\n",
       " 'ПОСЕЩ',\n",
       " 'ПРАЩ',\n",
       " 'ПРЕЩ',\n",
       " 'ПРОЩ',\n",
       " 'ПРЫЩ',\n",
       " 'ПУЩ',\n",
       " 'ПЫЩ',\n",
       " 'РАЩ',\n",
       " 'РОЩ',\n",
       " 'РУБИЩ',\n",
       " 'СВЁ',\n",
       " 'СВЕЩ',\n",
       " 'СВИРЕЩ',\n",
       " 'СВИРИЩ',\n",
       " 'СВИЩ',\n",
       " 'СВЯЩ',\n",
       " 'СЕЩ',\n",
       " 'СЛАЩ',\n",
       " 'СНАЩ',\n",
       " 'СОЛОЩ',\n",
       " 'СТОЙ',\n",
       " 'СТРАЩ',\n",
       " 'СТРОЙ',\n",
       " 'СУЩ',\n",
       " 'СЫЩ',\n",
       " 'ТАРАЩ',\n",
       " 'ТАЩ',\n",
       " 'ТОЛЩ',\n",
       " 'ТОЩ',\n",
       " 'ТРЕЩ',\n",
       " 'ТРУЩ',\n",
       " 'ТЩ',\n",
       " 'ТЪ',\n",
       " 'УЛЕЙ',\n",
       " 'УХИЩР',\n",
       " 'УЩ',\n",
       " 'ХИЩ',\n",
       " 'ХИЩН',\n",
       " 'ХЛЫЩ',\n",
       " 'ХОЛАЩ',\n",
       " 'ХОЛОЩ',\n",
       " 'ХОЛУЙ',\n",
       " 'ХРУЩ',\n",
       " 'ХРЯЩ',\n",
       " 'ЧЁТ',\n",
       " 'ЧАЙ',\n",
       " 'ЧАЩ',\n",
       " 'ЧЕЩ',\n",
       " 'ЧИЩ',\n",
       " 'ЩА',\n",
       " 'ЩАВ',\n",
       " 'ЩАД',\n",
       " 'ЩБ',\n",
       " 'ЩГ',\n",
       " 'ЩД',\n",
       " 'ЩЕ',\n",
       " 'ЩЕБ',\n",
       " 'ЩЕБЕТ',\n",
       " 'ЩЕГ',\n",
       " 'ЩЕГЛ',\n",
       " 'ЩЕГОЛ',\n",
       " 'ЩЕДР',\n",
       " 'ЩЕК',\n",
       " 'ЩЕКОТ',\n",
       " 'ЩЕЛ',\n",
       " 'ЩЕЛАЧ',\n",
       " 'ЩЕЛК',\n",
       " 'ЩЕЛОК',\n",
       " 'ЩЕЛОЧ',\n",
       " 'ЩЕЛЧ',\n",
       " 'ЩЕМ',\n",
       " 'ЩЕН',\n",
       " 'ЩЕП',\n",
       " 'ЩЕПЕТ',\n",
       " 'ЩЕР',\n",
       " 'ЩЕРБ',\n",
       " 'ЩЕТ',\n",
       " 'ЩЕТИН',\n",
       " 'ЩЕТЬ',\n",
       " 'ЩЕЧ',\n",
       " 'ЩИ',\n",
       " 'ЩИП',\n",
       " 'ЩИТ',\n",
       " 'ЩИЩ',\n",
       " 'ЩК',\n",
       " 'ЩМ',\n",
       " 'ЩН',\n",
       " 'ЩП',\n",
       " 'ЩУП',\n",
       " 'ЩУР',\n",
       " 'ЩУТ',\n",
       " 'ЩУЩ',\n",
       " 'ЩЬ',\n",
       " 'ЫЩ',\n",
       " 'ЭГЕЙ',\n",
       " 'ЭЙ',\n",
       " 'ЯЙ',\n",
       " 'ЯЙЦ',\n",
       " 'ЯЩ',\n",
       " 'ЯЩЕР'}"
      ]
     },
     "execution_count": 51,
     "metadata": {},
     "output_type": "execute_result"
    }
   ],
   "source": [
    "set_of_roots"
   ]
  }
 ],
 "metadata": {
  "kernelspec": {
   "display_name": "Python 3",
   "language": "python",
   "name": "python3"
  },
  "language_info": {
   "codemirror_mode": {
    "name": "ipython",
    "version": 3
   },
   "file_extension": ".py",
   "mimetype": "text/x-python",
   "name": "python",
   "nbconvert_exporter": "python",
   "pygments_lexer": "ipython3",
   "version": "3.7.6"
  }
 },
 "nbformat": 4,
 "nbformat_minor": 4
}

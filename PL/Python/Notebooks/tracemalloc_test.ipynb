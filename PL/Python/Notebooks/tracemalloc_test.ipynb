{
 "cells": [
  {
   "cell_type": "code",
   "execution_count": 2,
   "metadata": {},
   "outputs": [],
   "source": [
    "import tracemalloc\n",
    "import logging\n",
    "\n",
    "tracemalloc.start()\n",
    "snapshot = tracemalloc.take_snapshot()"
   ]
  },
  {
   "cell_type": "code",
   "execution_count": 8,
   "metadata": {},
   "outputs": [
    {
     "data": {
      "text/plain": [
       "[<Statistic traceback=<Traceback (<Frame filename='C:\\\\Users\\\\mk\\\\anaconda3\\\\lib\\\\site-packages\\\\IPython\\\\core\\\\builtin_trap.py' lineno=0>,)> size=9248 count=1>,\n",
       " <Statistic traceback=<Traceback (<Frame filename='C:\\\\Users\\\\mk\\\\anaconda3\\\\lib\\\\site-packages\\\\IPython\\\\core\\\\compilerop.py' lineno=0>,)> size=6954 count=102>,\n",
       " <Statistic traceback=<Traceback (<Frame filename='C:\\\\Users\\\\mk\\\\anaconda3\\\\lib\\\\tracemalloc.py' lineno=0>,)> size=6944 count=25>,\n",
       " <Statistic traceback=<Traceback (<Frame filename='C:\\\\Users\\\\mk\\\\anaconda3\\\\lib\\\\site-packages\\\\IPython\\\\core\\\\interactiveshell.py' lineno=0>,)> size=3622 count=25>,\n",
       " <Statistic traceback=<Traceback (<Frame filename='C:\\\\Users\\\\mk\\\\anaconda3\\\\lib\\\\site-packages\\\\tornado\\\\gen.py' lineno=0>,)> size=2976 count=26>]"
      ]
     },
     "execution_count": 8,
     "metadata": {},
     "output_type": "execute_result"
    }
   ],
   "source": [
    "snapshot.statistics('filename')[:5]"
   ]
  },
  {
   "cell_type": "code",
   "execution_count": 4,
   "metadata": {},
   "outputs": [],
   "source": [
    "for i, stat in enumerate(snapshot.statistics('filename')[:5], 1):\n",
    "    logging.info('top_current', i=i, stat=str(stat))"
   ]
  },
  {
   "cell_type": "code",
   "execution_count": 5,
   "metadata": {},
   "outputs": [
    {
     "data": {
      "text/plain": [
       "(96227, 380427)"
      ]
     },
     "execution_count": 5,
     "metadata": {},
     "output_type": "execute_result"
    }
   ],
   "source": [
    "tracemalloc.get_traced_memory()"
   ]
  }
 ],
 "metadata": {
  "kernelspec": {
   "display_name": "Python 3",
   "language": "python",
   "name": "python3"
  },
  "language_info": {
   "codemirror_mode": {
    "name": "ipython",
    "version": 3
   },
   "file_extension": ".py",
   "mimetype": "text/x-python",
   "name": "python",
   "nbconvert_exporter": "python",
   "pygments_lexer": "ipython3",
   "version": "3.8.3"
  }
 },
 "nbformat": 4,
 "nbformat_minor": 4
}

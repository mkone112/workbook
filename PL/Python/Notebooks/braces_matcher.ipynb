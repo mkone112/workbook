{
 "cells": [
  {
   "cell_type": "code",
   "execution_count": 64,
   "metadata": {},
   "outputs": [],
   "source": [
    "def braces_matcher(s):\n",
    "    braces = {'(':')', ')':'(', '[':']', ']':'[', '{':'}', '}':'{'}\n",
    "    left_braces, right_braces = '([{', ')]}'\n",
    "    #stack\n",
    "    opened_braces = []\n",
    "    for char in s:\n",
    "        if char in left_braces:\n",
    "            opened_braces.append(char)\n",
    "        elif char in right_braces:\n",
    "            if not opened_braces or braces[char] != opened_braces[-1] :\n",
    "                return False\n",
    "            elif braces[char] == opened_braces[-1]:\n",
    "                opened_braces.pop()\n",
    "    return not opened_braces\n",
    "\n",
    "\n",
    "def test_braces_matcher():\n",
    "    assert not braces_matcher('arst(neoi')\n",
    "    assert braces_matcher('reasnti(rastarst)arst')\n",
    "    assert braces_matcher('rastra[]')\n",
    "    assert not braces_matcher('}{rastra[]')\n",
    "    assert not braces_matcher('rastra[')\n",
    "    assert braces_matcher('arst(stt[st{}t])')\n",
    "    assert not braces_matcher('arst(stt[st{t])')\n",
    "\n",
    "\n",
    "test_braces_matcher()"
   ]
  },
  {
   "cell_type": "code",
   "execution_count": 53,
   "metadata": {},
   "outputs": [
    {
     "data": {
      "text/plain": [
       "1"
      ]
     },
     "execution_count": 53,
     "metadata": {},
     "output_type": "execute_result"
    }
   ],
   "source": []
  },
  {
   "cell_type": "code",
   "execution_count": 40,
   "metadata": {},
   "outputs": [],
   "source": [
    "def braces_matcher(s):\n",
    "    opened_braces = 0\n",
    "    for char in s:\n",
    "        if char == '(':\n",
    "            opened_braces += 1\n",
    "        elif char == ')':\n",
    "            opened_braces -= 1\n",
    "        if opened_braces < 0:\n",
    "            return False\n",
    "    return not opened_braces\n",
    "\n",
    "\n",
    "def test_braces_matcher():\n",
    "    assert not braces_matcher('arst(neoi')\n",
    "    assert braces_matcher('reasnti(rastarst)arst')\n",
    "    assert not braces_matcher('ra(stra')\n",
    "    assert braces_matcher('rastra[')\n",
    "    assert braces_matcher('arst(stt[st{}t])')\n",
    "    assert braces_matcher('arst(stt[st{t])')\n",
    "\n",
    "\n",
    "test_braces_matcher()"
   ]
  }
 ],
 "metadata": {
  "kernelspec": {
   "display_name": "Python 3",
   "language": "python",
   "name": "python3"
  },
  "language_info": {
   "codemirror_mode": {
    "name": "ipython",
    "version": 3
   },
   "file_extension": ".py",
   "mimetype": "text/x-python",
   "name": "python",
   "nbconvert_exporter": "python",
   "pygments_lexer": "ipython3",
   "version": "3.7.6"
  }
 },
 "nbformat": 4,
 "nbformat_minor": 4
}

{
 "cells": [
  {
   "cell_type": "code",
   "execution_count": null,
   "metadata": {},
   "outputs": [],
   "source": [
    "import functools"
   ]
  },
  {
   "cell_type": "code",
   "execution_count": null,
   "metadata": {},
   "outputs": [],
   "source": [
    "def inherited(func):\n",
    "    functools.wraps(func)\n",
    "    def wrapper(*args, **kwargs):\n",
    "\n",
    "        return func(*args, **kwargs)\n",
    "    wrapper.__inherited__ = True\n",
    "    return wrapper"
   ]
  },
  {
   "cell_type": "markdown",
   "metadata": {},
   "source": [
    "воспользоваться builtins"
   ]
  },
  {
   "cell_type": "code",
   "execution_count": null,
   "metadata": {},
   "outputs": [],
   "source": [
    "class SelectiveInheritanceMetaclass(type):\n",
    "    \n",
    "    def __new__(typ, cls, bases, attrs):\n",
    "        inherited_attrs = {attr_name:value\n",
    "                           for attr_name, value in attrs.items()\n",
    "                           if hasattr(value, '__inherited__')}\n",
    "        print('hello')\n",
    "        return super().__new__(typ, cls, bases, inherited_attrs)"
   ]
  },
  {
   "cell_type": "code",
   "execution_count": null,
   "metadata": {},
   "outputs": [],
   "source": [
    "class Base(metaclass=SelectiveInheritanceMetaclass):\n",
    "    \n",
    "    @inherited\n",
    "    def method(cls):\n",
    "        return cls.__name__, __class__.__name__\n",
    "    \n",
    "    def other(self):\n",
    "        return 'hi'\n",
    "\n",
    "\n",
    "class Inheritor(Base):\n",
    "    ..."
   ]
  },
  {
   "cell_type": "code",
   "execution_count": null,
   "metadata": {},
   "outputs": [],
   "source": [
    "Base.method"
   ]
  },
  {
   "cell_type": "code",
   "execution_count": null,
   "metadata": {},
   "outputs": [],
   "source": [
    "Inheritor.other"
   ]
  },
  {
   "cell_type": "code",
   "execution_count": null,
   "metadata": {},
   "outputs": [],
   "source": [
    "Inheritor.method"
   ]
  },
  {
   "cell_type": "code",
   "execution_count": null,
   "metadata": {},
   "outputs": [],
   "source": []
  },
  {
   "cell_type": "code",
   "execution_count": null,
   "metadata": {},
   "outputs": [],
   "source": [
    "class Parent:\n",
    "    \n",
    "    @classmethod\n",
    "    def method(cls):\n",
    "        return super()\n",
    "\n",
    "\n",
    "class Derived(Parent):\n",
    "    ..."
   ]
  },
  {
   "cell_type": "code",
   "execution_count": null,
   "metadata": {},
   "outputs": [],
   "source": [
    "Parent.method()"
   ]
  },
  {
   "cell_type": "code",
   "execution_count": null,
   "metadata": {},
   "outputs": [],
   "source": [
    "Derived.method()"
   ]
  },
  {
   "cell_type": "markdown",
   "metadata": {},
   "source": [
    "МИКСИНЫ"
   ]
  },
  {
   "cell_type": "code",
   "execution_count": null,
   "metadata": {},
   "outputs": [],
   "source": [
    "class Mixin:\n",
    "    \n",
    "    @staticmethod\n",
    "    def inherited():\n",
    "        ...\n",
    "        \n",
    "class Base(Mixin):\n",
    "    \n",
    "    @staticmethod\n",
    "    def not_inherited():\n",
    "        ...\n",
    "\n",
    "class Inheritor(Mixin):\n",
    "    ..."
   ]
  },
  {
   "cell_type": "code",
   "execution_count": null,
   "metadata": {},
   "outputs": [],
   "source": [
    "Base.not_inherited"
   ]
  },
  {
   "cell_type": "code",
   "execution_count": null,
   "metadata": {},
   "outputs": [],
   "source": [
    "nheritor.not_inherited"
   ]
  },
  {
   "cell_type": "markdown",
   "metadata": {},
   "source": [
    "Вроде бредни"
   ]
  },
  {
   "cell_type": "code",
   "execution_count": 25,
   "metadata": {},
   "outputs": [],
   "source": [
    "class partial_inherited:\n",
    "    partials = set()\n",
    "    \n",
    "    def __new__(cls, decorated_class):\n",
    "        print('hi')\n",
    "        return decorated_class   \n",
    "        "
   ]
  },
  {
   "cell_type": "code",
   "execution_count": 26,
   "metadata": {},
   "outputs": [
    {
     "name": "stdout",
     "output_type": "stream",
     "text": [
      "hi\n"
     ]
    }
   ],
   "source": [
    "@partial_inherited\n",
    "class Base:\n",
    "#     @inherited\n",
    "    def inherited(self):\n",
    "        ...\n",
    "    \n",
    "    def not_inherited(self):\n",
    "        ...\n",
    "    \n",
    "    def __getattribute__(self, name):\n",
    "        if\n",
    "def __getattribute__(self, name):\n",
    "        if name.endswith('_please'):\n",
    "            return object.__getattribute__(self, name.replace(\"_please\", \"\"))\n",
    "    \n",
    "class Inheritor(Base):\n",
    "    ..."
   ]
  },
  {
   "cell_type": "markdown",
   "metadata": {},
   "source": []
  },
  {
   "cell_type": "code",
   "execution_count": 15,
   "metadata": {},
   "outputs": [],
   "source": [
    "class decorator_test:\n",
    "    \n",
    "    def __new__(cls, decorated):\n",
    "        return decorated\n",
    "\n",
    "\n",
    "@decorator_test\n",
    "class decorated:..."
   ]
  },
  {
   "cell_type": "code",
   "execution_count": null,
   "metadata": {},
   "outputs": [],
   "source": [
    "декоратор ведь вызывается при переопределении"
   ]
  },
  {
   "cell_type": "code",
   "execution_count": 1,
   "metadata": {},
   "outputs": [],
   "source": [
    "def decorator(func):\n",
    "    def wrapper(*args, **kwargs):\n",
    "        print('wrapping')\n",
    "        return(func(*args, **kwargs))\n",
    "    return wrapper\n",
    "\n",
    "class Test:\n",
    "    @decorator\n",
    "    def method(self):\n",
    "        ..."
   ]
  },
  {
   "cell_type": "code",
   "execution_count": 3,
   "metadata": {},
   "outputs": [
    {
     "name": "stdout",
     "output_type": "stream",
     "text": [
      "wrapping\n"
     ]
    }
   ],
   "source": [
    "Test().method()"
   ]
  },
  {
   "cell_type": "markdown",
   "metadata": {},
   "source": [
    "откуда был вызван метод"
   ]
  },
  {
   "cell_type": "code",
   "execution_count": 9,
   "metadata": {},
   "outputs": [],
   "source": [
    "class A:\n",
    "    @classmethod\n",
    "    def method(cls):\n",
    "        return cls\n",
    "    \n",
    "    def __getattribute__(self, name):\n",
    "        print('')\n",
    "        return object.__getattribute__(self, name)\n",
    "\n",
    "class B(A):\n",
    "    ..."
   ]
  },
  {
   "cell_type": "code",
   "execution_count": 11,
   "metadata": {},
   "outputs": [
    {
     "data": {
      "text/plain": [
       "<bound method A.method of <class '__main__.B'>>"
      ]
     },
     "execution_count": 11,
     "metadata": {},
     "output_type": "execute_result"
    }
   ],
   "source": [
    "B.method"
   ]
  }
 ],
 "metadata": {
  "kernelspec": {
   "display_name": "Python 3",
   "language": "python",
   "name": "python3"
  },
  "language_info": {
   "codemirror_mode": {
    "name": "ipython",
    "version": 3
   },
   "file_extension": ".py",
   "mimetype": "text/x-python",
   "name": "python",
   "nbconvert_exporter": "python",
   "pygments_lexer": "ipython3",
   "version": "3.7.6"
  }
 },
 "nbformat": 4,
 "nbformat_minor": 4
}

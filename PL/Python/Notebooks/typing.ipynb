{
 "cells": [
  {
   "cell_type": "code",
   "execution_count": 1,
   "metadata": {},
   "outputs": [],
   "source": [
    "import typing"
   ]
  },
  {
   "cell_type": "code",
   "execution_count": 2,
   "metadata": {},
   "outputs": [
    {
     "data": {
      "text/plain": [
       "['AbstractSet',\n",
       " 'Any',\n",
       " 'AnyStr',\n",
       " 'AsyncContextManager',\n",
       " 'AsyncGenerator',\n",
       " 'AsyncIterable',\n",
       " 'AsyncIterator',\n",
       " 'Awaitable',\n",
       " 'BinaryIO',\n",
       " 'ByteString',\n",
       " 'CT_co',\n",
       " 'Callable',\n",
       " 'ChainMap',\n",
       " 'ClassVar',\n",
       " 'Collection',\n",
       " 'Container',\n",
       " 'ContextManager',\n",
       " 'Coroutine',\n",
       " 'Counter',\n",
       " 'DefaultDict',\n",
       " 'Deque',\n",
       " 'Dict',\n",
       " 'ForwardRef',\n",
       " 'FrozenSet',\n",
       " 'Generator',\n",
       " 'Generic',\n",
       " 'Hashable',\n",
       " 'IO',\n",
       " 'ItemsView',\n",
       " 'Iterable',\n",
       " 'Iterator',\n",
       " 'KT',\n",
       " 'KeysView',\n",
       " 'List',\n",
       " 'Mapping',\n",
       " 'MappingView',\n",
       " 'Match',\n",
       " 'MethodDescriptorType',\n",
       " 'MethodWrapperType',\n",
       " 'MutableMapping',\n",
       " 'MutableSequence',\n",
       " 'MutableSet',\n",
       " 'NamedTuple',\n",
       " 'NamedTupleMeta',\n",
       " 'NewType',\n",
       " 'NoReturn',\n",
       " 'Optional',\n",
       " 'OrderedDict',\n",
       " 'Pattern',\n",
       " 'Reversible',\n",
       " 'Sequence',\n",
       " 'Set',\n",
       " 'Sized',\n",
       " 'SupportsAbs',\n",
       " 'SupportsBytes',\n",
       " 'SupportsComplex',\n",
       " 'SupportsFloat',\n",
       " 'SupportsInt',\n",
       " 'SupportsRound',\n",
       " 'T',\n",
       " 'TYPE_CHECKING',\n",
       " 'T_co',\n",
       " 'T_contra',\n",
       " 'Text',\n",
       " 'TextIO',\n",
       " 'Tuple',\n",
       " 'Type',\n",
       " 'TypeVar',\n",
       " 'Union',\n",
       " 'VT',\n",
       " 'VT_co',\n",
       " 'V_co',\n",
       " 'ValuesView',\n",
       " 'WrapperDescriptorType',\n",
       " '_Final',\n",
       " '_GenericAlias',\n",
       " '_Immutable',\n",
       " '_Protocol',\n",
       " '_ProtocolMeta',\n",
       " '_SpecialForm',\n",
       " '_TypingEllipsis',\n",
       " '_TypingEmpty',\n",
       " '_VariadicGenericAlias',\n",
       " '__all__',\n",
       " '__builtins__',\n",
       " '__cached__',\n",
       " '__doc__',\n",
       " '__file__',\n",
       " '__loader__',\n",
       " '__name__',\n",
       " '__package__',\n",
       " '__spec__',\n",
       " '_alias',\n",
       " '_allowed_types',\n",
       " '_check_generic',\n",
       " '_cleanups',\n",
       " '_collect_type_vars',\n",
       " '_eval_type',\n",
       " '_get_defaults',\n",
       " '_is_dunder',\n",
       " '_make_nmtuple',\n",
       " '_normalize_alias',\n",
       " '_overload_dummy',\n",
       " '_prohibited',\n",
       " '_remove_dups_flatten',\n",
       " '_special',\n",
       " '_subs_tvars',\n",
       " '_tp_cache',\n",
       " '_type_check',\n",
       " '_type_repr',\n",
       " 'abc',\n",
       " 'abstractmethod',\n",
       " 'abstractproperty',\n",
       " 'cast',\n",
       " 'collections',\n",
       " 'contextlib',\n",
       " 'functools',\n",
       " 'get_type_hints',\n",
       " 'io',\n",
       " 'no_type_check',\n",
       " 'no_type_check_decorator',\n",
       " 'operator',\n",
       " 'overload',\n",
       " 're',\n",
       " 'stdlib_re',\n",
       " 'sys',\n",
       " 'types']"
      ]
     },
     "execution_count": 2,
     "metadata": {},
     "output_type": "execute_result"
    }
   ],
   "source": [
    "dir(typing)"
   ]
  },
  {
   "cell_type": "code",
   "execution_count": 23,
   "metadata": {},
   "outputs": [
    {
     "data": {
      "text/plain": [
       "True"
      ]
     },
     "execution_count": 23,
     "metadata": {},
     "output_type": "execute_result"
    }
   ],
   "source": [
    "isinstance(open(r'C:\\Users\\mkone\\PycharmProjects\\algorithms\\recurse\\look_for_key.py'), typing.Iterator)"
   ]
  },
  {
   "cell_type": "code",
   "execution_count": 3,
   "metadata": {},
   "outputs": [
    {
     "data": {
      "text/plain": [
       "[1, 2, 3, 4, 5, 6, 7, 8, 9, 89]"
      ]
     },
     "execution_count": 3,
     "metadata": {},
     "output_type": "execute_result"
    }
   ],
   "source": [
    "sum_dig_pow(1, 100)"
   ]
  }
 ],
 "metadata": {
  "kernelspec": {
   "display_name": "Python 3",
   "language": "python",
   "name": "python3"
  },
  "language_info": {
   "codemirror_mode": {
    "name": "ipython",
    "version": 3
   },
   "file_extension": ".py",
   "mimetype": "text/x-python",
   "name": "python",
   "nbconvert_exporter": "python",
   "pygments_lexer": "ipython3",
   "version": "3.7.6"
  }
 },
 "nbformat": 4,
 "nbformat_minor": 4
}

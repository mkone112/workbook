{
 "cells": [
  {
   "cell_type": "raw",
   "metadata": {},
   "source": [
    "if нужно переопределить поведение obj как attr можно исп дескрипторы(напр property)\n",
    "Также для семейства obj(напр fx)\n"
   ]
  },
  {
   "cell_type": "raw",
   "metadata": {},
   "source": [
    "еще способ повлиять на доступ к attrs\n",
    "    .__getattr__\n",
    "    .__setattr__\n",
    "    .__delattr__\n",
    "    .__getattribute__"
   ]
  },
  {
   "cell_type": "raw",
   "metadata": {},
   "source": [
    "в отличие от дескрипторов определяются для Obj СОДЕРЖ attrs и вызываются при доступе к любому attr этого obj"
   ]
  },
  {
   "cell_type": "raw",
   "metadata": {},
   "source": [
    "__getattr__(self, name)\n",
    "#вызывается if запрашиваемый attr не найден обычным механизмом\n",
    "    __dict__ экземпляра -> класса -> ..."
   ]
  },
  {
   "cell_type": "code",
   "execution_count": 1,
   "metadata": {},
   "outputs": [],
   "source": [
    "class SmartyPants:\n",
    "    def __getattr__(self, attr):\n",
    "        print('Yep, I know', attr)\n",
    "    \n",
    "    tellme = \"It's a secret\"\n",
    "\n",
    "smarty = SmartyPants()\n",
    "smarty.name = \"Smartinius Smart\""
   ]
  },
  {
   "cell_type": "code",
   "execution_count": 2,
   "metadata": {},
   "outputs": [
    {
     "name": "stdout",
     "output_type": "stream",
     "text": [
      "Yep, I know sdf\n"
     ]
    }
   ],
   "source": [
    "smarty.sdf"
   ]
  },
  {
   "cell_type": "code",
   "execution_count": 3,
   "metadata": {},
   "outputs": [
    {
     "data": {
      "text/plain": [
       "\"It's a secret\""
      ]
     },
     "execution_count": 3,
     "metadata": {},
     "output_type": "execute_result"
    }
   ],
   "source": [
    "smarty.tellme"
   ]
  },
  {
   "cell_type": "code",
   "execution_count": 4,
   "metadata": {},
   "outputs": [
    {
     "data": {
      "text/plain": [
       "'Smartinius Smart'"
      ]
     },
     "execution_count": 4,
     "metadata": {},
     "output_type": "execute_result"
    }
   ],
   "source": [
    "smarty.name"
   ]
  },
  {
   "cell_type": "raw",
   "metadata": {},
   "source": [
    "__getattribute__(self, name)\n",
    "#вызывается при попытке получить val attr\n",
    "#if метод переопределен -> стандартный механизм(\n",
    "    в __dict__ экз -> __dict__ класса -> ...)\n",
    "    #не будет использован\n",
    "        #хотя вызов специальных методов(magic?)\n",
    "            __len__\n",
    "            __str__\n",
    "            ...\n",
    "            #через встроенные fx|неявный вызов через синтаксис \n",
    "                #яп(вроде итерационного контекста?) осущ \n",
    "                #в обход __getattribute__\n",
    "    "
   ]
  },
  {
   "cell_type": "code",
   "execution_count": 7,
   "metadata": {},
   "outputs": [],
   "source": [
    "class Optimist:\n",
    "    attr = \"class attribute\"\n",
    "    \n",
    "    def __getattribute__(self, name):\n",
    "        print(f\"{name} is great!\")\n",
    "    \n",
    "    def __len__(self):\n",
    "        print(\"__len__ is special\")\n",
    "        return 0\n",
    "\n",
    "o = Optimist()\n",
    "o.instance_attr = 'instance'"
   ]
  },
  {
   "cell_type": "code",
   "execution_count": 8,
   "metadata": {},
   "outputs": [
    {
     "name": "stdout",
     "output_type": "stream",
     "text": [
      "attr is great!\n"
     ]
    }
   ],
   "source": [
    "o.attr"
   ]
  },
  {
   "cell_type": "code",
   "execution_count": 9,
   "metadata": {},
   "outputs": [
    {
     "name": "stdout",
     "output_type": "stream",
     "text": [
      "dark_beer is great!\n"
     ]
    }
   ],
   "source": [
    "o.dark_beer"
   ]
  },
  {
   "cell_type": "code",
   "execution_count": 10,
   "metadata": {},
   "outputs": [
    {
     "name": "stdout",
     "output_type": "stream",
     "text": [
      "instance_attr is great!\n"
     ]
    }
   ],
   "source": [
    "o.instance_attr"
   ]
  },
  {
   "cell_type": "code",
   "execution_count": 11,
   "metadata": {},
   "outputs": [
    {
     "name": "stdout",
     "output_type": "stream",
     "text": [
      "__len__ is great!\n"
     ]
    }
   ],
   "source": [
    "o.__len__"
   ]
  },
  {
   "cell_type": "code",
   "execution_count": 12,
   "metadata": {},
   "outputs": [
    {
     "name": "stdout",
     "output_type": "stream",
     "text": [
      "__len__ is great!\n"
     ]
    },
    {
     "ename": "TypeError",
     "evalue": "'NoneType' object is not callable",
     "output_type": "error",
     "traceback": [
      "\u001b[1;31m---------------------------------------------------------------------------\u001b[0m",
      "\u001b[1;31mTypeError\u001b[0m                                 Traceback (most recent call last)",
      "\u001b[1;32m<ipython-input-12-d7f6677f16a9>\u001b[0m in \u001b[0;36m<module>\u001b[1;34m\u001b[0m\n\u001b[1;32m----> 1\u001b[1;33m \u001b[0mo\u001b[0m\u001b[1;33m.\u001b[0m\u001b[0m__len__\u001b[0m\u001b[1;33m(\u001b[0m\u001b[1;33m)\u001b[0m\u001b[1;33m\u001b[0m\u001b[1;33m\u001b[0m\u001b[0m\n\u001b[0m",
      "\u001b[1;31mTypeError\u001b[0m: 'NoneType' object is not callable"
     ]
    }
   ],
   "source": [
    "o.__len__()"
   ]
  },
  {
   "cell_type": "code",
   "execution_count": 13,
   "metadata": {},
   "outputs": [
    {
     "name": "stdout",
     "output_type": "stream",
     "text": [
      "__len__ is special\n"
     ]
    },
    {
     "data": {
      "text/plain": [
       "0"
      ]
     },
     "execution_count": 13,
     "metadata": {},
     "output_type": "execute_result"
    }
   ],
   "source": [
    "len(o)"
   ]
  },
  {
   "cell_type": "raw",
   "metadata": {},
   "source": [
    "__setattr__(self, name, value)\n",
    "#вызывается при попытке установить val attr Экземпляра\n",
    "#~__getattribute__() if он переопределен -> стардартный механизм установки attr не задействуется"
   ]
  },
  {
   "cell_type": "code",
   "execution_count": 17,
   "metadata": {},
   "outputs": [],
   "source": [
    "class NoSetters:\n",
    "    attr = \"class attribute\"\n",
    "    def __setattr__(self, name, val):\n",
    "        print(f\"not setting {name}={val}\")\n",
    "\n",
    "\n",
    "no_setters = NoSetters()"
   ]
  },
  {
   "cell_type": "code",
   "execution_count": 18,
   "metadata": {},
   "outputs": [
    {
     "name": "stdout",
     "output_type": "stream",
     "text": [
      "not setting a=1\n"
     ]
    }
   ],
   "source": [
    "no_setters.a = 1"
   ]
  },
  {
   "cell_type": "code",
   "execution_count": 19,
   "metadata": {},
   "outputs": [
    {
     "name": "stdout",
     "output_type": "stream",
     "text": [
      "not setting attr=1\n"
     ]
    }
   ],
   "source": [
    "no_setters.attr = 1"
   ]
  },
  {
   "cell_type": "code",
   "execution_count": 20,
   "metadata": {},
   "outputs": [
    {
     "data": {
      "text/plain": [
       "{}"
      ]
     },
     "execution_count": 20,
     "metadata": {},
     "output_type": "execute_result"
    }
   ],
   "source": [
    "no_setters.__dict__"
   ]
  },
  {
   "cell_type": "code",
   "execution_count": 21,
   "metadata": {},
   "outputs": [
    {
     "data": {
      "text/plain": [
       "'class attribute'"
      ]
     },
     "execution_count": 21,
     "metadata": {},
     "output_type": "execute_result"
    }
   ],
   "source": [
    "no_setters.attr"
   ]
  },
  {
   "cell_type": "code",
   "execution_count": 22,
   "metadata": {},
   "outputs": [
    {
     "ename": "AttributeError",
     "evalue": "'NoSetters' object has no attribute 'a'",
     "output_type": "error",
     "traceback": [
      "\u001b[1;31m---------------------------------------------------------------------------\u001b[0m",
      "\u001b[1;31mAttributeError\u001b[0m                            Traceback (most recent call last)",
      "\u001b[1;32m<ipython-input-22-dd49e4173f2d>\u001b[0m in \u001b[0;36m<module>\u001b[1;34m\u001b[0m\n\u001b[1;32m----> 1\u001b[1;33m \u001b[0mno_setters\u001b[0m\u001b[1;33m.\u001b[0m\u001b[0ma\u001b[0m\u001b[1;33m\u001b[0m\u001b[1;33m\u001b[0m\u001b[0m\n\u001b[0m",
      "\u001b[1;31mAttributeError\u001b[0m: 'NoSetters' object has no attribute 'a'"
     ]
    }
   ],
   "source": [
    "no_setters.a"
   ]
  },
  {
   "cell_type": "raw",
   "metadata": {},
   "source": [
    "__delattr__(self, name)\n",
    "#~ __setattr__() для удаления элта"
   ]
  },
  {
   "cell_type": "markdown",
   "metadata": {},
   "source": [
    "При переопределении\n",
    "    __getattribute__\n",
    "    __setattr__\n",
    "    __delattr__\n",
    "стандартный способ доступа к attr доступен через object"
   ]
  },
  {
   "cell_type": "code",
   "execution_count": 23,
   "metadata": {},
   "outputs": [],
   "source": [
    "class GentleGuy:\n",
    "    \n",
    "    def __getattribute__(self, name):\n",
    "        if name.endswith('_please'):\n",
    "            return object.__getattribute__(self, name.replace(\"_please\", \"\"))\n",
    "        \n",
    "        raise AttributeError(\"And the magic word!?\")\n",
    "\n",
    "gentle = GentleGuy()"
   ]
  },
  {
   "cell_type": "code",
   "execution_count": 24,
   "metadata": {},
   "outputs": [
    {
     "ename": "AttributeError",
     "evalue": "And the magic word!?",
     "output_type": "error",
     "traceback": [
      "\u001b[1;31m---------------------------------------------------------------------------\u001b[0m",
      "\u001b[1;31mAttributeError\u001b[0m                            Traceback (most recent call last)",
      "\u001b[1;32m<ipython-input-24-055d7baaa91d>\u001b[0m in \u001b[0;36m<module>\u001b[1;34m\u001b[0m\n\u001b[0;32m      1\u001b[0m \u001b[0mgentle\u001b[0m\u001b[1;33m.\u001b[0m\u001b[0mcoffee\u001b[0m \u001b[1;33m=\u001b[0m \u001b[1;34m\"some coffee\"\u001b[0m\u001b[1;33m\u001b[0m\u001b[1;33m\u001b[0m\u001b[0m\n\u001b[1;32m----> 2\u001b[1;33m \u001b[0mgentle\u001b[0m\u001b[1;33m.\u001b[0m\u001b[0mcoffee\u001b[0m\u001b[1;33m\u001b[0m\u001b[1;33m\u001b[0m\u001b[0m\n\u001b[0m",
      "\u001b[1;32m<ipython-input-23-7b927928d385>\u001b[0m in \u001b[0;36m__getattribute__\u001b[1;34m(self, name)\u001b[0m\n\u001b[0;32m      5\u001b[0m             \u001b[1;32mreturn\u001b[0m \u001b[0mobject\u001b[0m\u001b[1;33m.\u001b[0m\u001b[0m__getattribute__\u001b[0m\u001b[1;33m(\u001b[0m\u001b[0mself\u001b[0m\u001b[1;33m,\u001b[0m \u001b[0mname\u001b[0m\u001b[1;33m.\u001b[0m\u001b[0mreplace\u001b[0m\u001b[1;33m(\u001b[0m\u001b[1;34m\"_please\"\u001b[0m\u001b[1;33m,\u001b[0m \u001b[1;34m\"\"\u001b[0m\u001b[1;33m)\u001b[0m\u001b[1;33m)\u001b[0m\u001b[1;33m\u001b[0m\u001b[1;33m\u001b[0m\u001b[0m\n\u001b[0;32m      6\u001b[0m \u001b[1;33m\u001b[0m\u001b[0m\n\u001b[1;32m----> 7\u001b[1;33m         \u001b[1;32mraise\u001b[0m \u001b[0mAttributeError\u001b[0m\u001b[1;33m(\u001b[0m\u001b[1;34m\"And the magic word!?\"\u001b[0m\u001b[1;33m)\u001b[0m\u001b[1;33m\u001b[0m\u001b[1;33m\u001b[0m\u001b[0m\n\u001b[0m\u001b[0;32m      8\u001b[0m \u001b[1;33m\u001b[0m\u001b[0m\n\u001b[0;32m      9\u001b[0m \u001b[0mgentle\u001b[0m \u001b[1;33m=\u001b[0m \u001b[0mGentleGuy\u001b[0m\u001b[1;33m(\u001b[0m\u001b[1;33m)\u001b[0m\u001b[1;33m\u001b[0m\u001b[1;33m\u001b[0m\u001b[0m\n",
      "\u001b[1;31mAttributeError\u001b[0m: And the magic word!?"
     ]
    }
   ],
   "source": [
    "gentle.coffee = \"some coffee\"\n",
    "gentle.coffee"
   ]
  },
  {
   "cell_type": "code",
   "execution_count": 25,
   "metadata": {},
   "outputs": [
    {
     "data": {
      "text/plain": [
       "'some coffee'"
      ]
     },
     "execution_count": 25,
     "metadata": {},
     "output_type": "execute_result"
    }
   ],
   "source": [
    "gentle.coffee_please"
   ]
  },
  {
   "cell_type": "markdown",
   "metadata": {},
   "source": [
    "СОЛЬ\n",
    "<ul>\n",
    "    <li><p>if определен a.__class__.__getattribute__()</p>\n",
    "        <p>вызывается он и возвращается его val</p></li>\n",
    "    <li><p>if attrname - специальный(определенный Py attr)</p>\n",
    "        <p>    __class__</p>\n",
    "        <p>    __doc__</p>\n",
    "        <p>>> его val</p></li>\n",
    "    <li><p>Проверяется a.__class__.__dict__ на наличие записи с</p>\n",
    "        <p>attrname</p>\n",
    "        <p>if она СУЩ & val - дескриптор данных</p>\n",
    "        <p>\n",
    "...\n",
    "</ul>\n"
   ]
  },
  {
   "cell_type": "raw",
   "metadata": {},
   "source": [
    "__slots__\n",
    "Гвидо -Как изобретались new-style classes\n",
    "... Я боялся что изменения в сис-ме классов замедлят код, в частности чтобы дескрипторы данных работали корректно, все манипуляции аттрибутами obj начинались с проверки __dict__ класса на то что этот attr - дескриптор данных"
   ]
  },
  {
   "cell_type": "raw",
   "metadata": {},
   "source": [
    "наличие __slots__ ограничивает возможные имена attr obj -> так-как все имена уже известны ->__dict__ экземпляра больше не нужен"
   ]
  },
  {
   "cell_type": "code",
   "execution_count": 27,
   "metadata": {},
   "outputs": [],
   "source": [
    "class Slotter:\n",
    "    __slots__ = ['a', 'b']\n",
    "\n",
    "s = Slotter()"
   ]
  },
  {
   "cell_type": "code",
   "execution_count": 28,
   "metadata": {},
   "outputs": [
    {
     "ename": "AttributeError",
     "evalue": "'Slotter' object has no attribute '__dict__'",
     "output_type": "error",
     "traceback": [
      "\u001b[1;31m---------------------------------------------------------------------------\u001b[0m",
      "\u001b[1;31mAttributeError\u001b[0m                            Traceback (most recent call last)",
      "\u001b[1;32m<ipython-input-28-eb17e9874e77>\u001b[0m in \u001b[0;36m<module>\u001b[1;34m\u001b[0m\n\u001b[1;32m----> 1\u001b[1;33m \u001b[0ms\u001b[0m\u001b[1;33m.\u001b[0m\u001b[0m__dict__\u001b[0m\u001b[1;33m\u001b[0m\u001b[1;33m\u001b[0m\u001b[0m\n\u001b[0m",
      "\u001b[1;31mAttributeError\u001b[0m: 'Slotter' object has no attribute '__dict__'"
     ]
    }
   ],
   "source": [
    "s.__dict__"
   ]
  },
  {
   "cell_type": "code",
   "execution_count": 29,
   "metadata": {},
   "outputs": [
    {
     "data": {
      "text/plain": [
       "['__class__',\n",
       " '__delattr__',\n",
       " '__dir__',\n",
       " '__doc__',\n",
       " '__eq__',\n",
       " '__format__',\n",
       " '__ge__',\n",
       " '__getattribute__',\n",
       " '__gt__',\n",
       " '__hash__',\n",
       " '__init__',\n",
       " '__init_subclass__',\n",
       " '__le__',\n",
       " '__lt__',\n",
       " '__module__',\n",
       " '__ne__',\n",
       " '__new__',\n",
       " '__reduce__',\n",
       " '__reduce_ex__',\n",
       " '__repr__',\n",
       " '__setattr__',\n",
       " '__sizeof__',\n",
       " '__slots__',\n",
       " '__str__',\n",
       " '__subclasshook__',\n",
       " 'a',\n",
       " 'b']"
      ]
     },
     "execution_count": 29,
     "metadata": {},
     "output_type": "execute_result"
    }
   ],
   "source": [
    "dir(s)"
   ]
  },
  {
   "cell_type": "code",
   "execution_count": 30,
   "metadata": {},
   "outputs": [
    {
     "ename": "AttributeError",
     "evalue": "'Slotter' object has no attribute 'c'",
     "output_type": "error",
     "traceback": [
      "\u001b[1;31m---------------------------------------------------------------------------\u001b[0m",
      "\u001b[1;31mAttributeError\u001b[0m                            Traceback (most recent call last)",
      "\u001b[1;32m<ipython-input-30-bcd7ad8ae420>\u001b[0m in \u001b[0;36m<module>\u001b[1;34m\u001b[0m\n\u001b[1;32m----> 1\u001b[1;33m \u001b[0ms\u001b[0m\u001b[1;33m.\u001b[0m\u001b[0mc\u001b[0m \u001b[1;33m=\u001b[0m \u001b[1;36m1\u001b[0m\u001b[1;33m\u001b[0m\u001b[1;33m\u001b[0m\u001b[0m\n\u001b[0m",
      "\u001b[1;31mAttributeError\u001b[0m: 'Slotter' object has no attribute 'c'"
     ]
    }
   ],
   "source": [
    "s.c = 1"
   ]
  },
  {
   "cell_type": "code",
   "execution_count": 31,
   "metadata": {},
   "outputs": [],
   "source": [
    "s.a = 1"
   ]
  },
  {
   "cell_type": "code",
   "execution_count": null,
   "metadata": {},
   "outputs": [],
   "source": [
    "Позже оказалось что опасения Гвидо не оправдались\n",
    "Но __slots__ действительно может уменьшить потребление mem при создании мн-ва небольших Obj"
   ]
  }
 ],
 "metadata": {
  "kernelspec": {
   "display_name": "Python 3",
   "language": "python",
   "name": "python3"
  },
  "language_info": {
   "codemirror_mode": {
    "name": "ipython",
    "version": 3
   },
   "file_extension": ".py",
   "mimetype": "text/x-python",
   "name": "python",
   "nbconvert_exporter": "python",
   "pygments_lexer": "ipython3",
   "version": "3.8.3"
  }
 },
 "nbformat": 4,
 "nbformat_minor": 4
}

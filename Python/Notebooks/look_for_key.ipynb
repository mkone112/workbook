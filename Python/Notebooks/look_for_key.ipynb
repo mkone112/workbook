{
 "cells": [
  {
   "cell_type": "code",
   "execution_count": 4,
   "metadata": {},
   "outputs": [],
   "source": [
    "L0 = [1,[2,[3,[4],['key']]]]\n",
    "L1 = [1,[2,[3,'key',[4],['key']]]]"
   ]
  },
  {
   "cell_type": "code",
   "execution_count": 2,
   "metadata": {},
   "outputs": [],
   "source": [
    "def look_for_key_0(main_box):\n",
    "    #pile = main_box.make_a_pile_to_look_through() # создаем кучу(pile) и складываем в нее коробки\n",
    "    pile = [main_box]\n",
    "    keys = []           #лучше использовать сохранение состояния\n",
    "    while pile:\n",
    "        box = pile.pop(0)\n",
    "        for item in box:\n",
    "            if isinstance(item,list):\n",
    "                pile.append(item)\n",
    "            elif item == 'key':\n",
    "                keys.append(item)\n",
    "    return keys"
   ]
  },
  {
   "cell_type": "code",
   "execution_count": 5,
   "metadata": {},
   "outputs": [
    {
     "name": "stdout",
     "output_type": "stream",
     "text": [
      "6.48 µs ± 16.2 ns per loop (mean ± std. dev. of 7 runs, 100000 loops each)\n"
     ]
    }
   ],
   "source": [
    "%timeit look_for_key_0(L0), look_for_key_0(L1)"
   ]
  },
  {
   "cell_type": "code",
   "execution_count": 8,
   "metadata": {},
   "outputs": [],
   "source": [
    "def look_for_key_1(seq):\n",
    "    res = []\n",
    "    keys = []\n",
    "    seq = [seq]                                                   #ok\n",
    "    while seq:\n",
    "        #left теперь в любом случае вложенный\n",
    "        left = seq.pop(0)\n",
    "        for elt in left:\n",
    "            if isinstance(elt, list):\n",
    "                #можно использовать и append, но это уже будет называться не стек\n",
    "                seq.insert(0,elt)\n",
    "            elif elt == 'key':\n",
    "                keys.append(elt)\n",
    "            else:\n",
    "                res.append(elt)\n",
    "    return res, keys"
   ]
  },
  {
   "cell_type": "code",
   "execution_count": 9,
   "metadata": {},
   "outputs": [
    {
     "name": "stdout",
     "output_type": "stream",
     "text": [
      "7.93 µs ± 17.2 ns per loop (mean ± std. dev. of 7 runs, 100000 loops each)\n"
     ]
    }
   ],
   "source": [
    "%timeit look_for_key_1(L0), look_for_key_1(L1)"
   ]
  },
  {
   "cell_type": "code",
   "execution_count": 11,
   "metadata": {},
   "outputs": [],
   "source": [
    "def look_for_key_2(seq):\n",
    "    seq = seq.copy()\n",
    "    keys = []\n",
    "    res = []\n",
    "    while seq:\n",
    "        left = seq.pop()\n",
    "        if isinstance(left, list):\n",
    "            seq.extend(left)\n",
    "        elif left == 'key':\n",
    "            keys.append(left)\n",
    "        else:\n",
    "            res.insert(0, left)\n",
    "    return res,keys     "
   ]
  },
  {
   "cell_type": "code",
   "execution_count": 12,
   "metadata": {},
   "outputs": [
    {
     "name": "stdout",
     "output_type": "stream",
     "text": [
      "7.74 µs ± 24.5 ns per loop (mean ± std. dev. of 7 runs, 100000 loops each)\n"
     ]
    }
   ],
   "source": [
    "%timeit look_for_key_2(L0), look_for_key_2(L1)"
   ]
  },
  {
   "cell_type": "code",
   "execution_count": 22,
   "metadata": {},
   "outputs": [],
   "source": [
    "def look_for_key_3(box):\n",
    "    for item in box:\n",
    "        if isinstance(item, list):\n",
    "            look_for_key_3(item)\n",
    "        elif item == 'key':\n",
    "            return 'found_the_key!'"
   ]
  },
  {
   "cell_type": "code",
   "execution_count": 23,
   "metadata": {},
   "outputs": [
    {
     "name": "stdout",
     "output_type": "stream",
     "text": [
      "3.62 µs ± 9.69 ns per loop (mean ± std. dev. of 7 runs, 100000 loops each)\n"
     ]
    }
   ],
   "source": [
    "%timeit look_for_key_3(L0), look_for_key_3(L1)"
   ]
  },
  {
   "cell_type": "code",
   "execution_count": 25,
   "metadata": {},
   "outputs": [],
   "source": [
    "def look_for_key_4(seq):\n",
    "    def inner(seq):\n",
    "        res = []\n",
    "        for i in seq:\n",
    "            if isinstance(i, list):\n",
    "                res.extend(inner(i))\n",
    "            elif i == 'key':\n",
    "                inner.keys.append(i)\n",
    "            else:\n",
    "                res.append(i)\n",
    "        return res\n",
    "    inner.keys = []\n",
    "    return inner(seq),inner.keys"
   ]
  },
  {
   "cell_type": "code",
   "execution_count": 26,
   "metadata": {},
   "outputs": [
    {
     "name": "stdout",
     "output_type": "stream",
     "text": [
      "7.66 µs ± 28.2 ns per loop (mean ± std. dev. of 7 runs, 100000 loops each)\n"
     ]
    }
   ],
   "source": [
    "%timeit look_for_key_4(L0), look_for_key_4(L1)"
   ]
  },
  {
   "cell_type": "code",
   "execution_count": 27,
   "metadata": {},
   "outputs": [],
   "source": [
    "def look_for_key_5(seq):\n",
    "    keys = []\n",
    "    def inner(seq):\n",
    "        res = []\n",
    "        for i in seq:\n",
    "            if isinstance(i, list):\n",
    "                res.extend(inner(i))\n",
    "            elif i == 'key':\n",
    "                keys.append(i)\n",
    "            else:\n",
    "                res.append(i)\n",
    "        return res\n",
    "    return inner(seq),keys"
   ]
  },
  {
   "cell_type": "code",
   "execution_count": 28,
   "metadata": {},
   "outputs": [
    {
     "name": "stdout",
     "output_type": "stream",
     "text": [
      "7.29 µs ± 22.3 ns per loop (mean ± std. dev. of 7 runs, 100000 loops each)\n"
     ]
    }
   ],
   "source": [
    "%timeit look_for_key_5(L0), look_for_key_5(L1)"
   ]
  }
 ],
 "metadata": {
  "kernelspec": {
   "display_name": "Python 3",
   "language": "python",
   "name": "python3"
  },
  "language_info": {
   "codemirror_mode": {
    "name": "ipython",
    "version": 3
   },
   "file_extension": ".py",
   "mimetype": "text/x-python",
   "name": "python",
   "nbconvert_exporter": "python",
   "pygments_lexer": "ipython3",
   "version": "3.7.6"
  }
 },
 "nbformat": 4,
 "nbformat_minor": 4
}

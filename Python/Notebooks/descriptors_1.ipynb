{
 "cells": [
  {
   "cell_type": "raw",
   "metadata": {},
   "source": [
    "посмотрим как ведет себя fx в __dict__"
   ]
  },
  {
   "cell_type": "code",
   "execution_count": null,
   "metadata": {},
   "outputs": [],
   "source": [
    "fx, - при вызове через экземпляр становится методом"
   ]
  },
  {
   "cell_type": "code",
   "execution_count": 1,
   "metadata": {},
   "outputs": [],
   "source": [
    "class FuncHolder:\n",
    "    def func(self):\n",
    "        pass\n",
    "\n",
    "\n",
    "fh = FuncHolder()"
   ]
  },
  {
   "cell_type": "code",
   "execution_count": 2,
   "metadata": {},
   "outputs": [
    {
     "data": {
      "text/plain": [
       "<function __main__.FuncHolder.func(self)>"
      ]
     },
     "execution_count": 2,
     "metadata": {},
     "output_type": "execute_result"
    }
   ],
   "source": [
    "FuncHolder.func"
   ]
  },
  {
   "cell_type": "code",
   "execution_count": 5,
   "metadata": {},
   "outputs": [
    {
     "data": {
      "text/plain": [
       "<function __main__.FuncHolder.func(self)>"
      ]
     },
     "execution_count": 5,
     "metadata": {},
     "output_type": "execute_result"
    }
   ],
   "source": [
    "FuncHolder.__dict__['func']"
   ]
  },
  {
   "cell_type": "code",
   "execution_count": 6,
   "metadata": {},
   "outputs": [
    {
     "data": {
      "text/plain": [
       "<bound method FuncHolder.func of <__main__.FuncHolder object at 0x00000213B58E1DC0>>"
      ]
     },
     "execution_count": 6,
     "metadata": {},
     "output_type": "execute_result"
    }
   ],
   "source": [
    "fh.func"
   ]
  },
  {
   "cell_type": "raw",
   "metadata": {},
   "source": [
    "fx отличается от обычных attr методом __get__"
   ]
  },
  {
   "cell_type": "code",
   "execution_count": 8,
   "metadata": {},
   "outputs": [
    {
     "data": {
      "text/plain": [
       "<slot wrapper '__get__' of 'function' objects>"
      ]
     },
     "execution_count": 8,
     "metadata": {},
     "output_type": "execute_result"
    }
   ],
   "source": [
    "FuncHolder.func.__class__.__get__"
   ]
  },
  {
   "cell_type": "raw",
   "metadata": {},
   "source": [
    "переопределяет механизм получения val attr func экземпляра fh\n",
    "-obj реализующий этот метод - non-data descriptor"
   ]
  },
  {
   "cell_type": "raw",
   "metadata": {},
   "source": [
    "дескриптор - obj доступ к которому через attr переопределен методами в дескриптор протоколе"
   ]
  },
  {
   "cell_type": "raw",
   "metadata": {},
   "source": [
    "в данных примерах хранится в __dict__ класса"
   ]
  },
  {
   "cell_type": "raw",
   "metadata": {},
   "source": [
    "Виды:\n",
    "    Data Descriptor\n",
    "    #obj реализующий __get__ & __set__\n",
    "    Non-data Descriptor\n",
    "    #только __get__\n",
    "Отличаются поведением по отношению к записям __dict__ экземпляра"
   ]
  },
  {
   "cell_type": "raw",
   "metadata": {},
   "source": [
    "ДЕСКРИПТОРЫ ДАННЫХ"
   ]
  },
  {
   "cell_type": "raw",
   "metadata": {},
   "source": [
    "if в __dict__ экз СУЩ одноименная запись - что у дескриптора данных - у него преимущество"
   ]
  },
  {
   "cell_type": "code",
   "execution_count": 10,
   "metadata": {},
   "outputs": [],
   "source": [
    "class DataDesc:\n",
    "    \n",
    "    def __get__(self, obj, cls):\n",
    "        print(f'Trying to access from {obj} class {cls}')\n",
    "    \n",
    "    def __set__(self, obj, val):\n",
    "        print(f'Trying to set {val} to {obj}')\n",
    "    \n",
    "    def __delete__(self, obj):\n",
    "        print(f'Trying to delete from {obj}')\n",
    "\n",
    "\n",
    "class DataHolder:\n",
    "    data = DataDesc()\n",
    "\n",
    "\n",
    "d = DataHolder()"
   ]
  },
  {
   "cell_type": "code",
   "execution_count": 11,
   "metadata": {},
   "outputs": [
    {
     "name": "stdout",
     "output_type": "stream",
     "text": [
      "Trying to access from None class <class '__main__.DataHolder'>\n"
     ]
    }
   ],
   "source": [
    "DataHolder.data"
   ]
  },
  {
   "cell_type": "code",
   "execution_count": 12,
   "metadata": {},
   "outputs": [
    {
     "name": "stdout",
     "output_type": "stream",
     "text": [
      "Trying to access from <__main__.DataHolder object at 0x00000213B59477C0> class <class '__main__.DataHolder'>\n"
     ]
    }
   ],
   "source": [
    "d.data"
   ]
  },
  {
   "cell_type": "code",
   "execution_count": 13,
   "metadata": {},
   "outputs": [
    {
     "name": "stdout",
     "output_type": "stream",
     "text": [
      "Trying to delete from <__main__.DataHolder object at 0x00000213B59477C0>\n"
     ]
    }
   ],
   "source": [
    "del(d.data)"
   ]
  },
  {
   "cell_type": "raw",
   "metadata": {},
   "source": [
    "Проверим что у data descriptors преимущество перед записями в __dict__ экземпляра"
   ]
  },
  {
   "cell_type": "code",
   "execution_count": 14,
   "metadata": {},
   "outputs": [],
   "source": [
    "d.__dict__[\"data\"] = \"override!\""
   ]
  },
  {
   "cell_type": "code",
   "execution_count": 15,
   "metadata": {},
   "outputs": [
    {
     "data": {
      "text/plain": [
       "{'data': 'override!'}"
      ]
     },
     "execution_count": 15,
     "metadata": {},
     "output_type": "execute_result"
    }
   ],
   "source": [
    "d.__dict__"
   ]
  },
  {
   "cell_type": "code",
   "execution_count": 16,
   "metadata": {},
   "outputs": [
    {
     "name": "stdout",
     "output_type": "stream",
     "text": [
      "Trying to access from <__main__.DataHolder object at 0x00000213B59477C0> class <class '__main__.DataHolder'>\n"
     ]
    }
   ],
   "source": [
    "d.data"
   ]
  },
  {
   "cell_type": "raw",
   "metadata": {},
   "source": [
    "Те запись в __dict__ экземпляра игнорится if в __dict__ класса(или предков) сущ запись с тем-же именем и val - дескриптором данных"
   ]
  },
  {
   "cell_type": "raw",
   "metadata": {},
   "source": [
    "If ИЗМ val attr с дескриптором через класс - никаких методов дескриптора вызвано не будет, val изменится в __dict__ класса как и у обычного attr"
   ]
  },
  {
   "cell_type": "code",
   "execution_count": 17,
   "metadata": {},
   "outputs": [
    {
     "data": {
      "text/plain": [
       "<__main__.DataDesc at 0x213b5947760>"
      ]
     },
     "execution_count": 17,
     "metadata": {},
     "output_type": "execute_result"
    }
   ],
   "source": [
    "DataHolder.__dict__['data']"
   ]
  },
  {
   "cell_type": "code",
   "execution_count": 18,
   "metadata": {},
   "outputs": [
    {
     "data": {
      "text/plain": [
       "'kick descriptor out'"
      ]
     },
     "execution_count": 18,
     "metadata": {},
     "output_type": "execute_result"
    }
   ],
   "source": [
    "DataHolder.data = \"kick descriptor out\"\n",
    "DataHolder.__dict__['data']"
   ]
  },
  {
   "cell_type": "code",
   "execution_count": 19,
   "metadata": {},
   "outputs": [
    {
     "data": {
      "text/plain": [
       "'kick descriptor out'"
      ]
     },
     "execution_count": 19,
     "metadata": {},
     "output_type": "execute_result"
    }
   ],
   "source": [
    "DataHolder.data"
   ]
  },
  {
   "cell_type": "raw",
   "metadata": {},
   "source": [
    "ДЕСКРИПТОР НЕ ДАННЫХ"
   ]
  },
  {
   "cell_type": "raw",
   "metadata": {},
   "source": [
    "При попытке присвоения оно пишется в __dict__ экза скрыв дескриптор в __dict__ класса"
   ]
  },
  {
   "cell_type": "code",
   "execution_count": 22,
   "metadata": {},
   "outputs": [],
   "source": [
    "class NonDataDesc:\n",
    "    \n",
    "    def __get__(self, obj, cls):\n",
    "        print(f'Trying to access from {obj} class {cls}')\n",
    "\n",
    "\n",
    "class NonDataHolder:\n",
    "    non_data = NonDataDesc()\n",
    "\n",
    "\n",
    "n = NonDataHolder()"
   ]
  },
  {
   "cell_type": "code",
   "execution_count": 23,
   "metadata": {},
   "outputs": [
    {
     "name": "stdout",
     "output_type": "stream",
     "text": [
      "Trying to access from None class <class '__main__.NonDataHolder'>\n"
     ]
    }
   ],
   "source": [
    "NonDataHolder.non_data"
   ]
  },
  {
   "cell_type": "code",
   "execution_count": 24,
   "metadata": {},
   "outputs": [
    {
     "data": {
      "text/plain": [
       "1"
      ]
     },
     "execution_count": 24,
     "metadata": {},
     "output_type": "execute_result"
    }
   ],
   "source": [
    "n.non_data = 1\n",
    "n.non_data"
   ]
  },
  {
   "cell_type": "code",
   "execution_count": 25,
   "metadata": {},
   "outputs": [
    {
     "data": {
      "text/plain": [
       "{'non_data': 1}"
      ]
     },
     "execution_count": 25,
     "metadata": {},
     "output_type": "execute_result"
    }
   ],
   "source": [
    "n.__dict__"
   ]
  },
  {
   "cell_type": "raw",
   "metadata": {},
   "source": [
    "ПРИМЕРЫ ИСПОЛЬЗОВАНИЯ"
   ]
  },
  {
   "cell_type": "raw",
   "metadata": {},
   "source": [
    "создание property"
   ]
  },
  {
   "cell_type": "raw",
   "metadata": {},
   "source": [
    "property - val характеризующее состояние obj, с доступом через геттеры/сеттеры"
   ]
  },
  {
   "cell_type": "code",
   "execution_count": 27,
   "metadata": {},
   "outputs": [],
   "source": [
    "class Descriptor:\n",
    "    def __get__(self, obj, typ):\n",
    "        print(\"getter used\")\n",
    "        \n",
    "    def __set__(self, obj, val):\n",
    "        print(\"setter used\")\n",
    "        \n",
    "    def __delete__(self, obj):\n",
    "        print(\"deleter used\")\n",
    "\n",
    "\n",
    "class MyClass:\n",
    "    prop = Descriptor()\n",
    "\n",
    "\n",
    "m = MyClass()"
   ]
  },
  {
   "cell_type": "raw",
   "metadata": {},
   "source": [
    "~"
   ]
  },
  {
   "cell_type": "code",
   "execution_count": 32,
   "metadata": {},
   "outputs": [],
   "source": [
    "class MyClass:\n",
    "    \n",
    "    def _getter(self):\n",
    "        print('getter used')\n",
    "    \n",
    "    def _setter(self, val):\n",
    "        print('setter used')\n",
    "    \n",
    "    def _deleter(self):\n",
    "        print('deleter used')\n",
    "    \n",
    "    prop = property(_getter, _setter, _deleter, \"doc string\")"
   ]
  },
  {
   "cell_type": "code",
   "execution_count": 33,
   "metadata": {},
   "outputs": [
    {
     "name": "stdout",
     "output_type": "stream",
     "text": [
      "getter used\n"
     ]
    }
   ],
   "source": [
    "m = MyClass()\n",
    "m.prop"
   ]
  },
  {
   "cell_type": "code",
   "execution_count": 34,
   "metadata": {},
   "outputs": [
    {
     "name": "stdout",
     "output_type": "stream",
     "text": [
      "setter used\n"
     ]
    }
   ],
   "source": [
    "m.prop = 1"
   ]
  },
  {
   "cell_type": "code",
   "execution_count": 35,
   "metadata": {},
   "outputs": [
    {
     "name": "stdout",
     "output_type": "stream",
     "text": [
      "deleter used\n"
     ]
    }
   ],
   "source": [
    "del m.prop"
   ]
  },
  {
   "cell_type": "raw",
   "metadata": {},
   "source": [
    "property - всегда data-descriptor -> getter, setter, deleter - обязательны\n",
    "else >> AttributeError"
   ]
  },
  {
   "cell_type": "raw",
   "metadata": {},
   "source": [
    "staticmethod\n",
    "#встроенный дескриптор\n",
    "#~ fx вне класса - не принимает self\n",
    "classmethod\n",
    "#встроенный дескриптор\n",
    "#метод класса, но первым передается cls"
   ]
  },
  {
   "cell_type": "code",
   "execution_count": 36,
   "metadata": {},
   "outputs": [],
   "source": [
    "class StaticAndClassMethodHolder:\n",
    "    \n",
    "    def _method(*args):\n",
    "        print(\"_method called with\", args)\n",
    "    \n",
    "    static = staticmethod(_method)\n",
    "    cls = classmethod(_method)\n",
    "\n",
    "\n",
    "s = StaticAndClassMethodHolder()"
   ]
  },
  {
   "cell_type": "code",
   "execution_count": 37,
   "metadata": {},
   "outputs": [
    {
     "name": "stdout",
     "output_type": "stream",
     "text": [
      "_method called with (<__main__.StaticAndClassMethodHolder object at 0x00000213B594F910>,)\n"
     ]
    }
   ],
   "source": [
    "s._method()"
   ]
  },
  {
   "cell_type": "code",
   "execution_count": 38,
   "metadata": {},
   "outputs": [
    {
     "name": "stdout",
     "output_type": "stream",
     "text": [
      "_method called with ()\n"
     ]
    }
   ],
   "source": [
    "s.static()"
   ]
  },
  {
   "cell_type": "code",
   "execution_count": 39,
   "metadata": {},
   "outputs": [
    {
     "name": "stdout",
     "output_type": "stream",
     "text": [
      "_method called with (<class '__main__.StaticAndClassMethodHolder'>,)\n"
     ]
    }
   ],
   "source": [
    "s.cls()"
   ]
  }
 ],
 "metadata": {
  "kernelspec": {
   "display_name": "Python 3",
   "language": "python",
   "name": "python3"
  },
  "language_info": {
   "codemirror_mode": {
    "name": "ipython",
    "version": 3
   },
   "file_extension": ".py",
   "mimetype": "text/x-python",
   "name": "python",
   "nbconvert_exporter": "python",
   "pygments_lexer": "ipython3",
   "version": "3.8.3"
  }
 },
 "nbformat": 4,
 "nbformat_minor": 4
}

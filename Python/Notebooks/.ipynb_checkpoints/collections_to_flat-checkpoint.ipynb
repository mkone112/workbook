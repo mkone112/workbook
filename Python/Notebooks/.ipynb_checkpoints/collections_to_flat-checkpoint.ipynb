{
 "cells": [
  {
   "cell_type": "code",
   "execution_count": null,
   "metadata": {},
   "outputs": [],
   "source": [
    "def look_for_key_3(box):\n",
    "    for item in box:\n",
    "        if isinstance(item, list):\n",
    "            look_for_key_3(item)\n",
    "        elif item == 'key':\n",
    "            return 'found_the_key!'"
   ]
  },
  {
   "cell_type": "code",
   "execution_count": 2,
   "metadata": {},
   "outputs": [],
   "source": [
    "d = dict(S=['A', 'C'], A=['B', 'F'], C=['B', 'F'], B=[], F=[], T=[])"
   ]
  },
  {
   "cell_type": "code",
   "execution_count": 3,
   "metadata": {},
   "outputs": [
    {
     "data": {
      "text/plain": [
       "dict_items([('S', ['A', 'C']), ('A', ['B', 'F']), ('C', ['B', 'F']), ('B', []), ('F', []), ('T', [])])"
      ]
     },
     "execution_count": 3,
     "metadata": {},
     "output_type": "execute_result"
    }
   ],
   "source": [
    "import typing\n",
    "\n",
    "\n",
    "def flat(collection):\n",
    "    res = []\n",
    "    for elt in collection:\n",
    "        if isinstance(collection, typing.Collection) and not isinstance(collection, str):\n",
    "            \n",
    "flat(d.items())"
   ]
  },
  {
   "cell_type": "code",
   "execution_count": 7,
   "metadata": {},
   "outputs": [],
   "source": [
    "res = set(dir(tuple))\n",
    "for collection in (list, set, dict):\n",
    "    res &= set(dir(collection))"
   ]
  }
 ],
 "metadata": {
  "kernelspec": {
   "display_name": "Python 3",
   "language": "python",
   "name": "python3"
  },
  "language_info": {
   "codemirror_mode": {
    "name": "ipython",
    "version": 3
   },
   "file_extension": ".py",
   "mimetype": "text/x-python",
   "name": "python",
   "nbconvert_exporter": "python",
   "pygments_lexer": "ipython3",
   "version": "3.7.6"
  }
 },
 "nbformat": 4,
 "nbformat_minor": 4
}

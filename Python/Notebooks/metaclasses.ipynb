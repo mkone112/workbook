{
 "cells": [
  {
   "cell_type": "code",
   "execution_count": 5,
   "metadata": {},
   "outputs": [
    {
     "data": {
      "text/plain": [
       "__main__.choose_class.<locals>.Foo"
      ]
     },
     "execution_count": 5,
     "metadata": {},
     "output_type": "execute_result"
    }
   ],
   "source": [
    "#Динамическое создание классов\n",
    "def choose_class(name):\n",
    "    if name == 'foo':\n",
    "        class Foo:\n",
    "            ...\n",
    "        return Foo\n",
    "    else:\n",
    "        class Bar:\n",
    "            ...\n",
    "        return Bar\n",
    "\n",
    "\n",
    "MyClass = choose_class('foo')\n",
    "MyClass"
   ]
  },
  {
   "cell_type": "markdown",
   "metadata": {},
   "source": [
    "Однако приходится писать классы целиком. При использовании class Python создает класс автоматом\n",
    "Это можно сделать вручную\n",
    "type(<class_name>, <tuple_of_base_classes>, <dict_with_attrs>) может создавать классы"
   ]
  },
  {
   "cell_type": "code",
   "execution_count": 6,
   "metadata": {},
   "outputs": [],
   "source": [
    "MyShinyClass = type('MyShinyClass', (), {})\n",
    "# == class MyShinyClass:..."
   ]
  },
  {
   "cell_type": "code",
   "execution_count": 7,
   "metadata": {},
   "outputs": [],
   "source": [
    "Foo = type('Foo', (), {'bar':True})"
   ]
  },
  {
   "cell_type": "code",
   "execution_count": 8,
   "metadata": {},
   "outputs": [
    {
     "data": {
      "text/plain": [
       "True"
      ]
     },
     "execution_count": 8,
     "metadata": {},
     "output_type": "execute_result"
    }
   ],
   "source": [
    "Foo.bar"
   ]
  },
  {
   "cell_type": "markdown",
   "metadata": {},
   "source": [
    "Можно добавить методов в созданный класс как обычно"
   ]
  },
  {
   "cell_type": "code",
   "execution_count": 11,
   "metadata": {},
   "outputs": [],
   "source": [
    "Foo.new_method = lambda self:print('hello')"
   ]
  },
  {
   "cell_type": "code",
   "execution_count": 12,
   "metadata": {},
   "outputs": [
    {
     "name": "stdout",
     "output_type": "stream",
     "text": [
      "hello\n"
     ]
    }
   ],
   "source": [
    "new_foo_object = Foo()\n",
    "new_foo_object.new_method()"
   ]
  },
  {
   "cell_type": "markdown",
   "metadata": {},
   "source": [
    "Именно так Python создает классы, и делает это с помощью метаклассов\n",
    "Метакласс создает классы(класс классов)\n",
    "MyClass = MetaClass()\n",
    "MyObject = MyClass()"
   ]
  },
  {
   "cell_type": "code",
   "execution_count": 13,
   "metadata": {},
   "outputs": [],
   "source": [
    "MyClass = type('MyClass', (), {})\n",
    "MyObject = MyClass()"
   ]
  },
  {
   "cell_type": "markdown",
   "metadata": {},
   "source": [
    "type - метакласс, который Python использует для создания ВСЕХ классов, видимо пишется в lowercase для соответсвия с другими классами основных типов int, str, ..."
   ]
  },
  {
   "cell_type": "markdown",
   "metadata": {},
   "source": [
    "Все в python - obj & ВСЕ obj были созданы из классов"
   ]
  },
  {
   "cell_type": "code",
   "execution_count": 24,
   "metadata": {},
   "outputs": [
    {
     "data": {
      "text/plain": [
       "[int, str, int]"
      ]
     },
     "execution_count": 24,
     "metadata": {},
     "output_type": "execute_result"
    }
   ],
   "source": [
    "age = 35\n",
    "[obj.__class__ for obj in (age, \"1\", int(1))]"
   ]
  },
  {
   "cell_type": "code",
   "execution_count": 17,
   "metadata": {},
   "outputs": [
    {
     "ename": "SyntaxError",
     "evalue": "invalid syntax (<ipython-input-17-0dc03a8d7d37>, line 1)",
     "output_type": "error",
     "traceback": [
      "\u001b[1;36m  File \u001b[1;32m\"<ipython-input-17-0dc03a8d7d37>\"\u001b[1;36m, line \u001b[1;32m1\u001b[0m\n\u001b[1;33m    1.__class__\u001b[0m\n\u001b[1;37m      ^\u001b[0m\n\u001b[1;31mSyntaxError\u001b[0m\u001b[1;31m:\u001b[0m invalid syntax\n"
     ]
    }
   ],
   "source": [
    "1.__class__"
   ]
  },
  {
   "cell_type": "markdown",
   "metadata": {},
   "source": [
    "ATTR __metaclass__\n",
    "\n",
    "В класс можно добавить attr __metaclass__ -> указанный метакласс будет использоваться для создания данного класса"
   ]
  },
  {
   "cell_type": "code",
   "execution_count": 26,
   "metadata": {},
   "outputs": [],
   "source": [
    "something = lambda:...\n",
    "\n",
    "\n",
    "class Foo:\n",
    "    # callable\n",
    "    __metaclass__ = something\n",
    "    ..."
   ]
  },
  {
   "cell_type": "markdown",
   "metadata": {},
   "source": [
    "При создании класса интерпритатор ищет указание метакласса в текущем классе,\n",
    "    else в базовых классах\n",
    "    else ищет метакласс уровня модуля\n",
    "    else использует type"
   ]
  },
  {
   "cell_type": "markdown",
   "metadata": {},
   "source": [
    "Метаклассом мб ВСЕ что может создавать классы:\n",
    "    type\n",
    "    производные type\n",
    "    то что использует type(композиция?)"
   ]
  },
  {
   "cell_type": "markdown",
   "metadata": {},
   "source": [
    "Осноная цель метакласса - авто ИЗМ класса при создании\n",
    "Обычно это делает API, для создания класса в соотв с текущим контекстом"
   ]
  },
  {
   "cell_type": "markdown",
   "metadata": {},
   "source": [
    "Пример: потребовалось чтобы ВСЕ attr ВСЕХ классов модуля дб UPPERCASE\n",
    "Один из способов - объявление __metaclass__ уровня модуля, который будет переводить их имена в UPPERCASE"
   ]
  },
  {
   "cell_type": "code",
   "execution_count": 27,
   "metadata": {},
   "outputs": [],
   "source": [
    "# metaclass получает args == args type\n",
    "def upper_attr(future_class_name, future_class_parents, future_class_attr):\n",
    "    \"\"\"\n",
    "    return: class with UPPERCASE attributes\n",
    "    \"\"\"\n",
    "    uppercase_attrs = {}\n",
    "\n",
    "    for name, value in future_class_attr.items():\n",
    "        if not name.startswith('_'):\n",
    "            uppercase_attrs[key.upper()] = value\n",
    "    \n",
    "    return type(future_class_name, future_class_parents, uppercase_attr)"
   ]
  },
  {
   "cell_type": "code",
   "execution_count": 28,
   "metadata": {},
   "outputs": [],
   "source": [
    "__metaclass__ = upper_attr"
   ]
  },
  {
   "cell_type": "code",
   "execution_count": 31,
   "metadata": {},
   "outputs": [],
   "source": [
    "class Foo:\n",
    "    bar = 1\n",
    "    __metaclass__ = upper_attr"
   ]
  },
  {
   "cell_type": "code",
   "execution_count": 33,
   "metadata": {},
   "outputs": [
    {
     "data": {
      "text/plain": [
       "False"
      ]
     },
     "execution_count": 33,
     "metadata": {},
     "output_type": "execute_result"
    }
   ],
   "source": [
    "hasattr(Foo, 'BAR')"
   ]
  },
  {
   "cell_type": "code",
   "execution_count": 1,
   "metadata": {},
   "outputs": [
    {
     "data": {
      "text/plain": [
       "(type, object)"
      ]
     },
     "execution_count": 1,
     "metadata": {},
     "output_type": "execute_result"
    }
   ],
   "source": [
    "type.__mro__"
   ]
  },
  {
   "cell_type": "markdown",
   "metadata": {},
   "source": [
    "Метакласс уровня модуля"
   ]
  },
  {
   "cell_type": "code",
   "execution_count": 2,
   "metadata": {},
   "outputs": [
    {
     "data": {
      "text/plain": [
       "object"
      ]
     },
     "execution_count": 2,
     "metadata": {},
     "output_type": "execute_result"
    }
   ],
   "source": [
    "__builtins__.object"
   ]
  },
  {
   "cell_type": "code",
   "execution_count": 13,
   "metadata": {},
   "outputs": [],
   "source": [
    "class metatest:\n",
    "    def __new__(meta, future_class_name, \n",
    "                future_class_parents, future_class_attr):\n",
    "        print('metatest')\n",
    "        return __builtins__.type(future_class_name, future_class_parents,\n",
    "                                 future_class_attr)"
   ]
  },
  {
   "cell_type": "code",
   "execution_count": 14,
   "metadata": {},
   "outputs": [
    {
     "name": "stdout",
     "output_type": "stream",
     "text": [
      "metatest\n"
     ]
    }
   ],
   "source": [
    "class C(metaclass=metatest):\n",
    "    def __init__(self):\n",
    "        print('__init__')"
   ]
  }
 ],
 "metadata": {
  "kernelspec": {
   "display_name": "Python 3",
   "language": "python",
   "name": "python3"
  },
  "language_info": {
   "codemirror_mode": {
    "name": "ipython",
    "version": 3
   },
   "file_extension": ".py",
   "mimetype": "text/x-python",
   "name": "python",
   "nbconvert_exporter": "python",
   "pygments_lexer": "ipython3",
   "version": "3.7.6"
  }
 },
 "nbformat": 4,
 "nbformat_minor": 4
}

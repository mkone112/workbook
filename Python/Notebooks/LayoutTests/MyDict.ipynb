{
 "cells": [
  {
   "cell_type": "code",
   "execution_count": 3,
   "metadata": {},
   "outputs": [],
   "source": [
    "rus_text = r'c:/users/mkone/keyboard/rus_text.txt'"
   ]
  },
  {
   "cell_type": "code",
   "execution_count": 50,
   "metadata": {},
   "outputs": [],
   "source": [
    "cyrillic = 'абвгдеёжзийклмнопрстуфхцчшщъыьэюя'"
   ]
  },
  {
   "cell_type": "code",
   "execution_count": 51,
   "metadata": {},
   "outputs": [
    {
     "data": {
      "text/plain": [
       "['уь',\n",
       " 'жх',\n",
       " 'жы',\n",
       " 'гх',\n",
       " 'йь',\n",
       " 'йа',\n",
       " 'хй',\n",
       " 'хы',\n",
       " 'ьь',\n",
       " 'ьы',\n",
       " 'ьл',\n",
       " 'пз',\n",
       " 'пх',\n",
       " 'ыы',\n",
       " 'шж',\n",
       " 'шд']"
      ]
     },
     "execution_count": 51,
     "metadata": {},
     "output_type": "execute_result"
    }
   ],
   "source": [
    "short_cyrr = set(cyrillic) - set('юцщэфъё')\n",
    "bigrams = [x + y for x in short_cyrr for y in short_cyrr]\n",
    "\n",
    "dictionary = r'c:/Users/mkone/keyboard/avidreaders.ru__tolkovyy-slovar-russkogo-yazyka-1.txt'\n",
    "text = open(dictionary, encoding='utf-8').read()\n",
    "[bigram for bigram in bigrams if bigram not in text]"
   ]
  },
  {
   "cell_type": "code",
   "execution_count": 75,
   "metadata": {},
   "outputs": [],
   "source": [
    "russian_only = []\n",
    "for char in open(rus_text, encoding='utf-8').read():\n",
    "    if char in cyrillic:\n",
    "        russian_only.append(char)\n",
    "    elif russian_only[-1:] != ' ':\n",
    "        russian_only.append(' ')"
   ]
  },
  {
   "cell_type": "code",
   "execution_count": 74,
   "metadata": {},
   "outputs": [
    {
     "data": {
      "text/plain": [
       "'t'"
      ]
     },
     "execution_count": 74,
     "metadata": {},
     "output_type": "execute_result"
    }
   ],
   "source": [
    "'arst'[-1:]"
   ]
  },
  {
   "cell_type": "code",
   "execution_count": 77,
   "metadata": {},
   "outputs": [],
   "source": [
    "russian_only_string = ''\n",
    "for char in russian_only:\n",
    "    russian_only_string += char"
   ]
  },
  {
   "cell_type": "code",
   "execution_count": 88,
   "metadata": {},
   "outputs": [],
   "source": [
    "words = []\n",
    "for word in russian_only_string.split():\n",
    "    if set('ъЪйЙщЩёЁ') & set(word):\n",
    "        words.append(word.lower())"
   ]
  },
  {
   "cell_type": "code",
   "execution_count": 89,
   "metadata": {},
   "outputs": [],
   "source": [
    "correct_words = set(words)"
   ]
  },
  {
   "cell_type": "code",
   "execution_count": null,
   "metadata": {},
   "outputs": [],
   "source": [
    "#UPPER\n",
    "#Titled\n",
    "#lower\n",
    "#в этом нет необходимости - ∀ делает AHK"
   ]
  },
  {
   "cell_type": "code",
   "execution_count": 103,
   "metadata": {},
   "outputs": [
    {
     "data": {
      "text/plain": [
       "'известной'"
      ]
     },
     "execution_count": 103,
     "metadata": {},
     "output_type": "execute_result"
    }
   ],
   "source": [
    "list(correct_words)[10]"
   ]
  },
  {
   "cell_type": "code",
   "execution_count": 120,
   "metadata": {},
   "outputs": [
    {
     "name": "stdout",
     "output_type": "stream",
     "text": [
      "случаино\n"
     ]
    }
   ],
   "source": [
    "wrong_chars = str.maketrans('ъйщё', 'ьише')\n",
    "incorrect_words = set()\n",
    "\n",
    "test = list(correct_words)[0]\n",
    "test2 = test.translate(wrong_chars)\n",
    "print(test2)"
   ]
  },
  {
   "cell_type": "code",
   "execution_count": null,
   "metadata": {},
   "outputs": [],
   "source": [
    "import itertools\n",
    "help(itertools.islice)"
   ]
  },
  {
   "cell_type": "code",
   "execution_count": 126,
   "metadata": {},
   "outputs": [],
   "source": [
    "result = {}\n",
    "for word in correct_words:\n",
    "    incorrect_word = word.translate(wrong_chars)\n",
    "    result[incorrect_word] = word"
   ]
  },
  {
   "cell_type": "code",
   "execution_count": 129,
   "metadata": {},
   "outputs": [],
   "source": [
    "to_file = ''\n",
    "for incorrect_word, correct_word in result.items():\n",
    "    to_file += f':*c0:{incorrect_word}::{correct_word}\\n'"
   ]
  },
  {
   "cell_type": "code",
   "execution_count": 131,
   "metadata": {},
   "outputs": [
    {
     "name": "stdout",
     "output_type": "stream",
     "text": [
      ":*c0:случаино::случайно\n",
      ":*c0:замыкании::замыканий\n",
      ":*c0:проверяюших::проверяющих\n",
      ":*c0:самостоятельнои\n"
     ]
    }
   ],
   "source": [
    "print(to_file[:100])"
   ]
  },
  {
   "cell_type": "code",
   "execution_count": 132,
   "metadata": {},
   "outputs": [],
   "source": [
    "path = r'c:/users/mkone/scripts/ahk/hotstrings/python.ahk'\n",
    "with open(path,'wt') as fout:\n",
    "    fout.write(to_file)"
   ]
  },
  {
   "cell_type": "code",
   "execution_count": 136,
   "metadata": {},
   "outputs": [],
   "source": [
    "path0 = r'c:/Users/mkone/scripts/ahk/hotstrings/AutoCorrect0.ahk'\n",
    "extracted = []\n",
    "with open(path) as fin:\n",
    "    for line in fin.readlines():\n",
    "        if 'е' in line:\n",
    "            extracted.append(line)"
   ]
  },
  {
   "cell_type": "code",
   "execution_count": 144,
   "metadata": {},
   "outputs": [],
   "source": [
    "check = ''\n",
    "for line in extracted:\n",
    "    nl = '\\n'\n",
    "    check = f\"{check}{line.split('::')[-1]}\" "
   ]
  },
  {
   "cell_type": "code",
   "execution_count": 148,
   "metadata": {},
   "outputs": [],
   "source": [
    "path_for_check_yo = 'c:/Users/mkone/keyboard/check_for_yo.txt'\n",
    "with open(path_for_check_yo, 'wt') as fout:\n",
    "    fout.write(check)"
   ]
  },
  {
   "cell_type": "code",
   "execution_count": null,
   "metadata": {},
   "outputs": [],
   "source": [
    "#ё"
   ]
  },
  {
   "cell_type": "code",
   "execution_count": 159,
   "metadata": {},
   "outputs": [],
   "source": [
    "path_to_yo = r'c:/Users/mkone/keyboard/avidreaders.ru__tolkovyy-slovar-russkogo-yazyka-1.txt'\n",
    "russian_only = []\n",
    "with open(path_to_yo, encoding='utf-8') as fin:\n",
    "    for char in fin.read():\n",
    "        if char in cyrillic:\n",
    "            russian_only.append(char)\n",
    "        elif russian_only[-1:] != ' ':\n",
    "            russian_only.append(' ')\n",
    "russian_only_string = ''\n",
    "for char in russian_only:\n",
    "    russian_only_string += char\n",
    "words = []\n",
    "for word in russian_only_string.split():\n",
    "    if set('ёЁ') & set(word):\n",
    "        words.append(word.lower())"
   ]
  },
  {
   "cell_type": "code",
   "execution_count": 160,
   "metadata": {},
   "outputs": [],
   "source": [
    "with open('c:/Users/mkone/keyboard/check_for_yo1.txt', 'wt') as fout:\n",
    "    fout.write('\\n'.join(words))"
   ]
  },
  {
   "cell_type": "code",
   "execution_count": 170,
   "metadata": {},
   "outputs": [],
   "source": [
    "res = ''\n",
    "wrong_chars = str.maketrans('ъйщё', 'ьише')\n",
    "with open('c:/Users/mkone/keyboard/all_words_with_yo.txt', encoding='utf-8') as fin:\n",
    "    #all_words_with_yo = fin.read()\n",
    "    for line in fin.readlines():\n",
    "        res += f\":*c0:{line.translate(wrong_chars)[:-1]}::{line}\"\n",
    "with open('c:/Users/mkone/keyboard/hotstrings_with_yo.txt', 'wt') as fout:\n",
    "    fout.write(res)"
   ]
  },
  {
   "cell_type": "code",
   "execution_count": 171,
   "metadata": {},
   "outputs": [
    {
     "data": {
      "text/plain": [
       "':*c0:аистенок::аистёнок\\n:*c0:актер::актёр\\n:*c0:актерство::актёрство\\n:*c0:актерствовать::актёрствоват'"
      ]
     },
     "execution_count": 171,
     "metadata": {},
     "output_type": "execute_result"
    }
   ],
   "source": [
    "res[:100]"
   ]
  },
  {
   "cell_type": "code",
   "execution_count": null,
   "metadata": {},
   "outputs": [],
   "source": []
  },
  {
   "cell_type": "code",
   "execution_count": 29,
   "metadata": {},
   "outputs": [],
   "source": [
    "path_to_yo = r'c:/users/mkone/keyboard/rus_text.txt'\n",
    "russian_only = []\n",
    "with open(path_to_yo, encoding='utf-8') as fin:\n",
    "    for char in fin.read():\n",
    "        if char in cyrillic:\n",
    "            russian_only.append(char)\n",
    "        elif russian_only[-1:] != ' ':\n",
    "            russian_only.append(' ')\n",
    "russian_only_string = ''\n",
    "for char in russian_only:\n",
    "    russian_only_string += char\n",
    "words = []\n",
    "extra_letters = 'ьъщйёэыЬЪЩЙЁЭЫ'\n",
    "for word in russian_only_string.split():\n",
    "    if set(extra_letters) & set(word):\n",
    "        words.append(word.lower())\n",
    "words = set(words)"
   ]
  },
  {
   "cell_type": "code",
   "execution_count": null,
   "metadata": {},
   "outputs": [],
   "source": [
    "list(words)[:100]"
   ]
  }
 ],
 "metadata": {
  "kernelspec": {
   "display_name": "Python 3",
   "language": "python",
   "name": "python3"
  },
  "language_info": {
   "codemirror_mode": {
    "name": "ipython",
    "version": 3
   },
   "file_extension": ".py",
   "mimetype": "text/x-python",
   "name": "python",
   "nbconvert_exporter": "python",
   "pygments_lexer": "ipython3",
   "version": "3.7.6"
  }
 },
 "nbformat": 4,
 "nbformat_minor": 4
}

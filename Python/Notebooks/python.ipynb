{
 "cells": [
  {
   "cell_type": "code",
   "execution_count": 3,
   "metadata": {},
   "outputs": [
    {
     "name": "stdout",
     "output_type": "stream",
     "text": [
      "Help on method raw_input in module ipykernel.kernelbase:\n",
      "\n",
      "raw_input(prompt='') method of ipykernel.ipkernel.IPythonKernel instance\n",
      "    Forward raw_input to frontends\n",
      "    \n",
      "    Raises\n",
      "    ------\n",
      "    StdinNotImplentedError if active frontend doesn't support stdin.\n",
      "\n"
     ]
    }
   ],
   "source": [
    "help(input)"
   ]
  },
  {
   "cell_type": "code",
   "execution_count": 27,
   "metadata": {},
   "outputs": [],
   "source": [
    "class Test:\n",
    "    a = 1\n",
    "    \n",
    "    @classmethod\n",
    "    def __repr__(cls):\n",
    "        return cls.a"
   ]
  },
  {
   "cell_type": "code",
   "execution_count": 28,
   "metadata": {},
   "outputs": [
    {
     "data": {
      "text/plain": [
       "1"
      ]
     },
     "execution_count": 28,
     "metadata": {},
     "output_type": "execute_result"
    }
   ],
   "source": [
    "Test.__repr__()"
   ]
  },
  {
   "cell_type": "code",
   "execution_count": 30,
   "metadata": {},
   "outputs": [
    {
     "name": "stdout",
     "output_type": "stream",
     "text": [
      "Enter the price without tax32\n",
      "Price with tax: 36.8\n"
     ]
    }
   ],
   "source": [
    "TAX = 0.15\n",
    "base_price = float(input('Enter the price without tax'))\n",
    "final_price = base_price + base_price * TAX\n",
    "print(f'Price with tax: { final_price }')"
   ]
  },
  {
   "cell_type": "code",
   "execution_count": 3,
   "metadata": {},
   "outputs": [
    {
     "data": {
      "text/plain": [
       "'first\\nsecond'"
      ]
     },
     "execution_count": 3,
     "metadata": {},
     "output_type": "execute_result"
    }
   ],
   "source": [
    "a = f'''first\n",
    "second'''\n",
    "a"
   ]
  },
  {
   "cell_type": "code",
   "execution_count": 13,
   "metadata": {},
   "outputs": [
    {
     "data": {
      "text/plain": [
       "'1.'"
      ]
     },
     "execution_count": 13,
     "metadata": {},
     "output_type": "execute_result"
    }
   ],
   "source": [
    "number = '1.23'\n",
    "f'{number:.2}'"
   ]
  },
  {
   "cell_type": "code",
   "execution_count": 2,
   "metadata": {},
   "outputs": [],
   "source": [
    "import logging"
   ]
  },
  {
   "cell_type": "code",
   "execution_count": 3,
   "metadata": {},
   "outputs": [
    {
     "data": {
      "text/plain": [
       "<function logging.info(msg, *args, **kwargs)>"
      ]
     },
     "execution_count": 3,
     "metadata": {},
     "output_type": "execute_result"
    }
   ],
   "source": [
    "logging.info"
   ]
  },
  {
   "cell_type": "code",
   "execution_count": 5,
   "metadata": {},
   "outputs": [
    {
     "data": {
      "text/plain": [
       "'zxc\\n   zsdf'"
      ]
     },
     "execution_count": 5,
     "metadata": {},
     "output_type": "execute_result"
    }
   ],
   "source": [
    "'''zxc\n",
    "   zsdf'''"
   ]
  },
  {
   "cell_type": "code",
   "execution_count": 4,
   "metadata": {},
   "outputs": [],
   "source": [
    "class _int(int):\n",
    "    def __mul__(self, other):\n",
    "        print('hi')\n",
    "        return super().__mul__(other)"
   ]
  },
  {
   "cell_type": "code",
   "execution_count": 6,
   "metadata": {},
   "outputs": [
    {
     "data": {
      "text/plain": [
       "1"
      ]
     },
     "execution_count": 6,
     "metadata": {},
     "output_type": "execute_result"
    }
   ],
   "source": [
    "1 * _int(1)"
   ]
  },
  {
   "cell_type": "code",
   "execution_count": 11,
   "metadata": {},
   "outputs": [],
   "source": [
    "class Test:\n",
    "    def __init__(self):\n",
    "        return 0"
   ]
  },
  {
   "cell_type": "code",
   "execution_count": 12,
   "metadata": {},
   "outputs": [
    {
     "ename": "TypeError",
     "evalue": "__init__() should return None, not 'int'",
     "output_type": "error",
     "traceback": [
      "\u001b[1;31m---------------------------------------------------------------------------\u001b[0m",
      "\u001b[1;31mTypeError\u001b[0m                                 Traceback (most recent call last)",
      "\u001b[1;32m<ipython-input-12-7b08819e076e>\u001b[0m in \u001b[0;36m<module>\u001b[1;34m\u001b[0m\n\u001b[1;32m----> 1\u001b[1;33m \u001b[0mTest\u001b[0m\u001b[1;33m(\u001b[0m\u001b[1;33m)\u001b[0m\u001b[1;33m\u001b[0m\u001b[1;33m\u001b[0m\u001b[0m\n\u001b[0m",
      "\u001b[1;31mTypeError\u001b[0m: __init__() should return None, not 'int'"
     ]
    }
   ],
   "source": [
    "Test()"
   ]
  },
  {
   "cell_type": "code",
   "execution_count": 4,
   "metadata": {},
   "outputs": [],
   "source": [
    "class Rec:\n",
    "    \n",
    "    def __init__(self, attr):\n",
    "        self.attr = attr\n",
    "    \n",
    "    def attr(self):\n",
    "        return self.attr"
   ]
  },
  {
   "cell_type": "code",
   "execution_count": 6,
   "metadata": {},
   "outputs": [
    {
     "ename": "TypeError",
     "evalue": "'int' object is not callable",
     "output_type": "error",
     "traceback": [
      "\u001b[1;31m---------------------------------------------------------------------------\u001b[0m",
      "\u001b[1;31mTypeError\u001b[0m                                 Traceback (most recent call last)",
      "\u001b[1;32m<ipython-input-6-cf7aec4e62e6>\u001b[0m in \u001b[0;36m<module>\u001b[1;34m\u001b[0m\n\u001b[1;32m----> 1\u001b[1;33m \u001b[0mRec\u001b[0m\u001b[1;33m(\u001b[0m\u001b[1;36m1\u001b[0m\u001b[1;33m)\u001b[0m\u001b[1;33m.\u001b[0m\u001b[0mattr\u001b[0m\u001b[1;33m(\u001b[0m\u001b[1;33m)\u001b[0m\u001b[1;33m\u001b[0m\u001b[1;33m\u001b[0m\u001b[0m\n\u001b[0m",
      "\u001b[1;31mTypeError\u001b[0m: 'int' object is not callable"
     ]
    }
   ],
   "source": [
    "Rec(1).attr()"
   ]
  },
  {
   "cell_type": "code",
   "execution_count": 7,
   "metadata": {},
   "outputs": [
    {
     "data": {
      "text/plain": [
       "__main__.C"
      ]
     },
     "execution_count": 7,
     "metadata": {},
     "output_type": "execute_result"
    }
   ],
   "source": [
    "class C:\n",
    "    ...\n",
    "\n",
    "C().__class__"
   ]
  },
  {
   "cell_type": "raw",
   "metadata": {},
   "source": [
    "ИМЯ ТЕКУЩЕЙ FX"
   ]
  },
  {
   "cell_type": "code",
   "execution_count": 11,
   "metadata": {},
   "outputs": [
    {
     "name": "stdout",
     "output_type": "stream",
     "text": [
      "{}\n"
     ]
    },
    {
     "data": {
      "text/plain": [
       "{'__name__': '__main__',\n",
       " '__doc__': 'Automatically created module for IPython interactive environment',\n",
       " '__package__': None,\n",
       " '__loader__': None,\n",
       " '__spec__': None,\n",
       " '__builtin__': <module 'builtins' (built-in)>,\n",
       " '__builtins__': <module 'builtins' (built-in)>,\n",
       " '_ih': ['',\n",
       "  'class Rec:\\n    \\n    def __init__(self, attr):\\n        self.attr = attr\\n    \\n    def attr(self):\\n        pass',\n",
       "  'Rec()',\n",
       "  'Rec(1)',\n",
       "  'class Rec:\\n    \\n    def __init__(self, attr):\\n        self.attr = attr\\n    \\n    def attr(self):\\n        return self.attr',\n",
       "  'Rec(1).attr',\n",
       "  'Rec(1).attr()',\n",
       "  'class C:\\n    ...\\n\\nC().__class__',\n",
       "  'def outer():\\n    print(__name__)\\nouter()',\n",
       "  'def outer():\\n    print(__locals__)\\nouter()',\n",
       "  'def outer():\\n    print(locals())\\nouter()',\n",
       "  'def outer():\\n    print(locals())\\nouter()\\nlocals()'],\n",
       " '_oh': {3: <__main__.Rec at 0x215aa0aa550>, 5: 1, 7: __main__.C},\n",
       " '_dh': ['C:\\\\Users\\\\mk\\\\Notebooks'],\n",
       " 'In': ['',\n",
       "  'class Rec:\\n    \\n    def __init__(self, attr):\\n        self.attr = attr\\n    \\n    def attr(self):\\n        pass',\n",
       "  'Rec()',\n",
       "  'Rec(1)',\n",
       "  'class Rec:\\n    \\n    def __init__(self, attr):\\n        self.attr = attr\\n    \\n    def attr(self):\\n        return self.attr',\n",
       "  'Rec(1).attr',\n",
       "  'Rec(1).attr()',\n",
       "  'class C:\\n    ...\\n\\nC().__class__',\n",
       "  'def outer():\\n    print(__name__)\\nouter()',\n",
       "  'def outer():\\n    print(__locals__)\\nouter()',\n",
       "  'def outer():\\n    print(locals())\\nouter()',\n",
       "  'def outer():\\n    print(locals())\\nouter()\\nlocals()'],\n",
       " 'Out': {3: <__main__.Rec at 0x215aa0aa550>, 5: 1, 7: __main__.C},\n",
       " 'get_ipython': <bound method InteractiveShell.get_ipython of <ipykernel.zmqshell.ZMQInteractiveShell object at 0x00000215A9FDED30>>,\n",
       " 'exit': <IPython.core.autocall.ZMQExitAutocall at 0x215aa071850>,\n",
       " 'quit': <IPython.core.autocall.ZMQExitAutocall at 0x215aa071850>,\n",
       " '_': __main__.C,\n",
       " '__': 1,\n",
       " '___': <__main__.Rec at 0x215aa0aa550>,\n",
       " '_i': 'def outer():\\n    print(locals())\\nouter()',\n",
       " '_ii': 'def outer():\\n    print(__locals__)\\nouter()',\n",
       " '_iii': 'def outer():\\n    print(__name__)\\nouter()',\n",
       " '_i1': 'class Rec:\\n    \\n    def __init__(self, attr):\\n        self.attr = attr\\n    \\n    def attr(self):\\n        pass',\n",
       " 'Rec': __main__.Rec,\n",
       " '_i2': 'Rec()',\n",
       " '_i3': 'Rec(1)',\n",
       " '_3': <__main__.Rec at 0x215aa0aa550>,\n",
       " '_i4': 'class Rec:\\n    \\n    def __init__(self, attr):\\n        self.attr = attr\\n    \\n    def attr(self):\\n        return self.attr',\n",
       " '_i5': 'Rec(1).attr',\n",
       " '_5': 1,\n",
       " '_i6': 'Rec(1).attr()',\n",
       " '_i7': 'class C:\\n    ...\\n\\nC().__class__',\n",
       " 'C': __main__.C,\n",
       " '_7': __main__.C,\n",
       " '_i8': 'def outer():\\n    print(__name__)\\nouter()',\n",
       " 'outer': <function __main__.outer()>,\n",
       " '_i9': 'def outer():\\n    print(__locals__)\\nouter()',\n",
       " '_i10': 'def outer():\\n    print(locals())\\nouter()',\n",
       " '_i11': 'def outer():\\n    print(locals())\\nouter()\\nlocals()'}"
      ]
     },
     "execution_count": 11,
     "metadata": {},
     "output_type": "execute_result"
    }
   ],
   "source": [
    "def outer():\n",
    "    print(locals())\n",
    "outer()\n",
    "locals()"
   ]
  },
  {
   "cell_type": "code",
   "execution_count": 3,
   "metadata": {},
   "outputs": [
    {
     "data": {
      "text/plain": [
       "((1, 'a'), (2, 's'), (3, 'd'), (4, 'f'))"
      ]
     },
     "execution_count": 3,
     "metadata": {},
     "output_type": "execute_result"
    }
   ],
   "source": [
    "*enumerate('asdf',1),"
   ]
  },
  {
   "cell_type": "raw",
   "metadata": {},
   "source": [
    "по идее {xn} - все что имеет index (напр через __getitem__)"
   ]
  },
  {
   "cell_type": "code",
   "execution_count": 17,
   "metadata": {},
   "outputs": [
    {
     "data": {
      "text/plain": [
       "True"
      ]
     },
     "execution_count": 17,
     "metadata": {},
     "output_type": "execute_result"
    }
   ],
   "source": [
    "all('__getitem__' in dir(collection)\n",
    "        for collection in (str, tuple, list))"
   ]
  },
  {
   "cell_type": "code",
   "execution_count": 2,
   "metadata": {},
   "outputs": [
    {
     "name": "stdout",
     "output_type": "stream",
     "text": [
      "foo\n"
     ]
    }
   ],
   "source": [
    "import inspect\n",
    "def foo():\n",
    "    print( inspect.stack()[0][3] )\n",
    "foo()"
   ]
  }
 ],
 "metadata": {
  "kernelspec": {
   "display_name": "Python 3",
   "language": "python",
   "name": "python3"
  },
  "language_info": {
   "codemirror_mode": {
    "name": "ipython",
    "version": 3
   },
   "file_extension": ".py",
   "mimetype": "text/x-python",
   "name": "python",
   "nbconvert_exporter": "python",
   "pygments_lexer": "ipython3",
   "version": "3.8.3"
  }
 },
 "nbformat": 4,
 "nbformat_minor": 4
}

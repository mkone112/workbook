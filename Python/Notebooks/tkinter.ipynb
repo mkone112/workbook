{
 "cells": [
  {
   "cell_type": "raw",
   "metadata": {},
   "source": [
    "from tkinter import *"
   ]
  },
  {
   "cell_type": "raw",
   "metadata": {},
   "source": [
    "root = Tk()\n",
    "root.mainloop()"
   ]
  },
  {
   "cell_type": "raw",
   "metadata": {},
   "source": [
    "root0 = Tk()\n",
    "root1 = Tk()\n",
    "root0.after(10, root0.mainloop)"
   ]
  },
  {
   "cell_type": "code",
   "execution_count": 10,
   "metadata": {},
   "outputs": [
    {
     "name": "stdout",
     "output_type": "stream",
     "text": [
      "Click!\n",
      "Click!\n",
      "Click!\n",
      "Click!\n",
      "Click!\n",
      "Click!\n"
     ]
    }
   ],
   "source": [
    "from tkinter import Button, Tk\n",
    "\n",
    "\n",
    "def button_clicked():\n",
    "        print('Click!')\n",
    "\n",
    "root = Tk()\n",
    "button0 = Button(bg=\"#2196f3\", command=button_clicked)\n",
    "button0.pack()\n",
    "root.mainloop()"
   ]
  },
  {
   "cell_type": "code",
   "execution_count": 13,
   "metadata": {},
   "outputs": [],
   "source": [
    "from tkinter import Tk, Button\n",
    "counter\n",
    "def btn_clicked():\n",
    "    btn0.config(text='hi')\n",
    "root = Tk()\n",
    "btn0 = Button(root, bg='#2196f3', command=btn_clicked)\n",
    "btn0.pack()\n",
    "root.mainloop()"
   ]
  },
  {
   "cell_type": "code",
   "execution_count": 16,
   "metadata": {},
   "outputs": [],
   "source": [
    "from tkinter import Tk, Button\n",
    "\n",
    "\n",
    "def factory():\n",
    "    counter = 0\n",
    "    def inner() -> str:\n",
    "        nonlocal counter\n",
    "        counter += 1\n",
    "        return str(counter)\n",
    "    return inner\n",
    "\n",
    "counter = factory()\n",
    "\n",
    "def btn_clicked() -> None:\n",
    "    btn0.config(text=counter())\n",
    "\n",
    "root = Tk()\n",
    "btn0 = Button(text='0', command=btn_clicked)\n",
    "btn0.pack()\n",
    "root.mainloop()"
   ]
  },
  {
   "cell_type": "code",
   "execution_count": 1,
   "metadata": {},
   "outputs": [],
   "source": [
    "from tkinter import Tk, Button\n",
    "import time\n",
    "\n",
    "\n",
    "def btn_clicked() -> None:\n",
    "    btn0.config(text=time.strftime('%H:%M:%S'))\n",
    "\n",
    "root = Tk()\n",
    "btn0 = Button(text='0', command=btn_clicked)\n",
    "btn0.pack()\n",
    "root.mainloop()"
   ]
  },
  {
   "cell_type": "code",
   "execution_count": 9,
   "metadata": {},
   "outputs": [],
   "source": [
    "from tkinter import Tk, Button, Entry\n",
    "import time\n",
    "\n",
    "\n",
    "def btn_clicked() -> None:\n",
    "    #btn0.config(text=time.strftime('%H:%M:%S'))\n",
    "    Entry(width=0).pack()\n",
    "#     entry0.pack()\n",
    "root = Tk()\n",
    "entry0 = Entry(width=0)\n",
    "btn0 = Button(text='0', command=btn_clicked)\n",
    "btn0.pack()\n",
    "root.mainloop()"
   ]
  },
  {
   "cell_type": "code",
   "execution_count": 11,
   "metadata": {},
   "outputs": [],
   "source": [
    "import tkinter\n",
    " \n",
    "def add_button(event):\n",
    "    widget = event.widget\n",
    "    but = tkinter.Button(widget.__dict__['master'], text='Новая кнопка ' +\n",
    "                         widget['text'].split()[-1])\n",
    "    but.grid(row=widget.grid_info()['row'], column=1)\n",
    " \n",
    "def create_but(master, num):\n",
    "    all_buts = []\n",
    "    for i in range(num):\n",
    "        but = tkinter.Button(master, text='Создаём кнопку {}'.format(i))\n",
    "        but.grid(row=i, column=0)\n",
    "        but.bind('<ButtonRelease-1>', add_button)\n",
    " \n",
    "        all_buts.append(but)\n",
    " \n",
    "    return all_buts\n",
    " \n",
    " \n",
    "root = tkinter.Tk()\n",
    "root.title('example')\n",
    "buttons = create_but(root, 5)\n",
    "root.mainloop()"
   ]
  },
  {
   "cell_type": "code",
   "execution_count": null,
   "metadata": {},
   "outputs": [],
   "source": [
    "# TODO: избавиться от global v\n",
    "from random import random\n",
    "from tkinter import Tk, Button\n",
    "\n",
    "\n",
    "def button_clicked():\n",
    "    '''\n",
    "    Change button color on click\n",
    "    \n",
    "    '''\n",
    "    # Заменить на генератор?\n",
    "    new_color = '#%0x%0x%0x' % (int(random() * 256), int(random() * 256), int(random() * 256))\n",
    "    btn.config(bg=new_color)\n",
    "\n",
    "    \n",
    "root = Tk()\n",
    "btn = Button(command=button_clicked)\n",
    "\n",
    "btn.pack()\n",
    "root.mainloop()"
   ]
  },
  {
   "cell_type": "code",
   "execution_count": 12,
   "metadata": {},
   "outputs": [],
   "source": [
    "'''Hide widgets'''\n",
    "from tkinter import Tk, Label, Button\n",
    "                \n",
    "def hide_show():\n",
    "    if label.winfo_viewable():\n",
    "        label.grid_remove()\n",
    "    else:\n",
    "        label.grid()\n",
    "root=Tk()\n",
    "label = Label(text='I\\'m here')\n",
    "label.grid()\n",
    "button = Button(command=hide_show, text='Hide/Show')\n",
    "button.grid()\n",
    "root.mainloop()"
   ]
  },
  {
   "cell_type": "code",
   "execution_count": null,
   "metadata": {},
   "outputs": [],
   "source": [
    "from tkinter import Tk, Label, Button\n",
    "                \n",
    "for i in bttn_list:\n",
    "    rel = \"\"\n",
    "    cmd=lambda x=i: self.update_expression(x)\n",
    "    ttk.Button(self, text=i, command = cmd, width = 10).grid(row=r, column = c)\n",
    "    c += 1\n",
    "    if c > 3:\n",
    "        c = 0\n",
    "        r += 1\n",
    "root=Tk()\n",
    "label = Label(text='I\\'m here')\n",
    "label.grid()\n",
    "button = Button(command=hide_show, text='Hide/Show')\n",
    "button.grid()\n",
    "root.mainloop()"
   ]
  },
  {
   "cell_type": "code",
   "execution_count": 8,
   "metadata": {},
   "outputs": [],
   "source": [
    "root = Tk()\n",
    "root.after(200, root.grab_set_global)\n",
    "root.after(10000, root.grab_release)\n",
    "root.mainloop()"
   ]
  },
  {
   "cell_type": "code",
   "execution_count": 11,
   "metadata": {},
   "outputs": [
    {
     "name": "stdout",
     "output_type": "stream",
     "text": [
      "__call__\n"
     ]
    }
   ],
   "source": [
    "from tkinter import Tk\n",
    "\n",
    "\n",
    "class Callable:\n",
    "    \n",
    "    __name__ = ''\n",
    "        \n",
    "    \n",
    "    \n",
    "    def __call__(self):\n",
    "        print('__call__')\n",
    "        \n",
    "        \n",
    "obj = Callable()\n",
    "root = Tk()\n",
    "root.after(1000, obj)\n",
    "root.mainloop()"
   ]
  },
  {
   "cell_type": "code",
   "execution_count": 17,
   "metadata": {},
   "outputs": [],
   "source": [
    "import time\n",
    "from tkinter import Tk, Label\n",
    "\n",
    "\n",
    "def tick():\n",
    "    lbl.after(200, tick)\n",
    "    lbl.config(text=time.strftime('%H:%M:%S'))\n",
    "\n",
    "\n",
    "root = Tk()\n",
    "lbl = Label(font='sans 20')\n",
    "lbl.pack()\n",
    "lbl.after(200,tick)\n",
    "root.mainloop()"
   ]
  },
  {
   "cell_type": "code",
   "execution_count": 12,
   "metadata": {},
   "outputs": [],
   "source": [
    "from pprint import pprint as print_"
   ]
  },
  {
   "cell_type": "code",
   "execution_count": 19,
   "metadata": {},
   "outputs": [],
   "source": [
    "import math\n",
    "from tkinter import Tk, Button\n",
    "\n",
    "\n",
    "def hard_job():\n",
    "    x = 1000\n",
    "    try:\n",
    "        while True:\n",
    "\n",
    "            x = math.log(x) ** 2.8\n",
    "            root.update()\n",
    "    except Exception:\n",
    "        ...\n",
    "        \n",
    "root = Tk()\n",
    "btn = Button()\n",
    "btn.pack()\n",
    "root.after(500, hard_job)\n",
    "root.mainloop()\n"
   ]
  },
  {
   "cell_type": "code",
   "execution_count": null,
   "metadata": {},
   "outputs": [],
   "source": [
    "import tkinter\n",
    "dir(tkinter.EXCEPTION)"
   ]
  },
  {
   "cell_type": "code",
   "execution_count": null,
   "metadata": {},
   "outputs": [],
   "source": [
    "from tkinter import Tk\n",
    "\n",
    "root = Tk()\n",
    "print(root.winfo_exists())\n",
    "root.mainloop()\n",
    "print(root.winfo_exists())"
   ]
  },
  {
   "cell_type": "code",
   "execution_count": 38,
   "metadata": {},
   "outputs": [],
   "source": [
    "from tkinter import Tk\n",
    "for i in range(2):\n",
    "    Tk()\n",
    "root = Tk()\n",
    "root.mainloop()"
   ]
  },
  {
   "cell_type": "code",
   "execution_count": null,
   "metadata": {},
   "outputs": [],
   "source": [
    "root = Tk()\n",
    "root.eval('package require tile; ttk::style theme use clam')\n",
    "root.eval('ttk::button .b -text {ttk button}; pack .b')\n",
    "root.mainloop()"
   ]
  },
  {
   "cell_type": "code",
   "execution_count": 15,
   "metadata": {},
   "outputs": [],
   "source": [
    "# https://stackoverflow.com/questions/27777554/creating-gui-for-matrix-vector-multiplication\n",
    "import sys\n",
    "from tkinter import *\n",
    "#import dotprod\n",
    "\n",
    "base = Tk()\n",
    "resultStr = StringVar()\n",
    "resultStr.set(\"Enter Matrix1 and Matrix2\")\n",
    "\n",
    "matrixLabel = Label(text = \"Enter the size of the matrix:\")\n",
    "matrixLabel.pack()\n",
    "matrixBox = Entry()\n",
    "matrixBox.pack()\n",
    "\n",
    "vectorLabel = Label(text = \"Enter the size of the vector:\")\n",
    "vectorLabel.pack()\n",
    "vectorBox = Entry()\n",
    "vectorBox.pack()\n",
    "\n",
    "def generate_data(m):\n",
    "    test_data = []\n",
    "    for i in range(m):\n",
    "        test_data.append([])\n",
    "        for j in range(m):\n",
    "            test_data[i].append(random())        \n",
    "    return test_data\n",
    "\n",
    "def matvec():\n",
    "    m = int(generate_data(int((matrixBox.get()))))\n",
    "    v = [2] * len_m\n",
    "    vec = [0] * len(m)\n",
    "    '''\n",
    "    for i in range(len(m)):\n",
    "        vec[i] = dotprod.dotprod(m[i], v)\n",
    "    resultStr.set(\"Matrix vector product is \" + str(vec))\n",
    "    return vec\n",
    "    '''\n",
    "\n",
    "Computebutton = Button(text = \"Compute\", command = matvec)\n",
    "Computebutton.pack()\n",
    "base.mainloop()"
   ]
  },
  {
   "cell_type": "code",
   "execution_count": 19,
   "metadata": {},
   "outputs": [
    {
     "name": "stdout",
     "output_type": "stream",
     "text": [
      "ADD\n",
      "ADD\n",
      "0, , \n",
      "1, , \n",
      "0, asdf, sadf\n",
      "1, asdf, asdf\n"
     ]
    }
   ],
   "source": [
    "'''Динамическое создание элементов & получение их значений'''\n",
    "from tkinter import *\n",
    "\n",
    "\n",
    "def addBox():\n",
    "    frame = Frame(root)\n",
    "    frame.pack()\n",
    "    Label(frame, text='From').grid(row=0, column=0)\n",
    "    ent1 = Entry(frame)\n",
    "    ent1.grid(row=1, column=0)\n",
    "    Label(frame, text='To').grid(row=0, column=1)\n",
    "    ent2 = Entry(frame)\n",
    "    ent2.grid(row=1, column=1)\n",
    "    all_entries.append( (ent1, ent2) )\n",
    "\n",
    "\n",
    "def showEntries():\n",
    "    for number, (ent1, ent2) in enumerate(all_entries):\n",
    "        output = number, ent1.get(), ent2.get()\n",
    "        print(', '.join(map(str, output)))\n",
    "\n",
    "\n",
    "all_entries = []\n",
    "root = Tk()\n",
    "showButton = Button(root, text='Show all text', command=showEntries)\n",
    "showButton.pack()\n",
    "addboxButton = Button(root, text='<Add Time Input>', fg=\"Red\", command=addBox)\n",
    "addboxButton.pack()\n",
    "root.mainloop()"
   ]
  },
  {
   "cell_type": "code",
   "execution_count": 28,
   "metadata": {},
   "outputs": [],
   "source": [
    "'''Create multiple entry'''\n",
    "from tkinter import *\n",
    "\n",
    "root = Tk()\n",
    "entries = []\n",
    "for i in range(5):\n",
    "    sub = []\n",
    "    for j in range(3):\n",
    "        sub.append(Entry(width=10))\n",
    "        sub[j].grid(row=i, column=j)\n",
    "    entries.append(sub)\n",
    "    \n",
    "#for i in entries:\n",
    "#     i.pack()\n",
    "\n",
    "root.mainloop()"
   ]
  },
  {
   "cell_type": "code",
   "execution_count": null,
   "metadata": {},
   "outputs": [],
   "source": [
    "'''Dual standart scale'''\n",
    "from tkinter import *\n",
    "root = Tk()\n",
    "def getV(root):\n",
    "    a = scale1.get()\n",
    "    print(a)\n",
    "scale1 = Scale(root,orient=HORIZONTAL,length=300,from_=50,to=80,tickinterval=5,\n",
    "               resolution=5)\n",
    "button1 = Button(root,text=u\"Получить значение\")\n",
    "scale1.grid(sticky=\"n\")\n",
    "scale1.bind(\"<ButtonRelease-1>\",getV)\n",
    "scale2 = Scale(root,orient=VERTICAL,length=300,from_=50,to=80,tickinterval=5,\n",
    "               resolution=5,showvalue=False)\n",
    "scale2.grid(sticky=\"w\")\n",
    "scale2.bind(\"<ButtonRelease-1>\",getV)\n",
    "# button1.pack()\n",
    "# button1.bind(\"<ButtonRelease-1>\",getV)\n",
    "root.mainloop()"
   ]
  },
  {
   "cell_type": "code",
   "execution_count": 29,
   "metadata": {},
   "outputs": [
    {
     "name": "stdout",
     "output_type": "stream",
     "text": [
      "0.0\n"
     ]
    }
   ],
   "source": [
    "'''ttk scale'''\n",
    "import tkinter as tk\n",
    "from tkinter import ttk\n",
    "x = 10\n",
    "def show_values(root):\n",
    "    print (w1.get())\n",
    "\n",
    "# def getV(root):\n",
    "#     a = scale1.get()\n",
    "#     print(a)\n",
    "\n",
    "\n",
    "def scaleFunc(val):\n",
    "    scaleVal = float(w1.get())\n",
    "    if int(scaleVal) != scaleVal:\n",
    "        w1.set(round(float(val)))\n",
    "\n",
    "root = tk.Tk()\n",
    "root.geometry('300x400')\n",
    "root.resizable(False, False)\n",
    "result_box = tk.Label(text='0')\n",
    "for i in range(x) : #,text in enumerate(['O','B','A','F','G','K','M','L', 'g']):\n",
    "     ttk.Label(root, text = i).grid(row=0,column=i,padx=10)\n",
    "\n",
    "w1 = ttk.Scale(root, to=x-1, command=scaleFunc, length=None)\n",
    "w1.grid(row=1,column=0,columnspan=x+1,padx=(10,7),sticky='NSEW')\n",
    "\n",
    "w1.bind(\"<ButtonRelease-1>\",show_values)\n",
    "ttk.Button(root, text='Show', command=show_values).grid(row=2,column=0,columnspan=8)\n",
    "\n",
    "root.mainloop()"
   ]
  },
  {
   "cell_type": "code",
   "execution_count": 36,
   "metadata": {},
   "outputs": [
    {
     "name": "stdout",
     "output_type": "stream",
     "text": [
      "9.0\n",
      "0.0\n"
     ]
    }
   ],
   "source": [
    "'''ttk scale'''\n",
    "import tkinter as tk\n",
    "from tkinter import ttk\n",
    "x = 10\n",
    "def show_values(root):\n",
    "    print (w1.get())\n",
    "\n",
    "# def getV(root):b\n",
    "#     a = scale1.get()\n",
    "#     print(a)\n",
    "\n",
    "\n",
    "def scaleFunc(val):\n",
    "    scaleVal = float(w1.get())\n",
    "    if int(scaleVal) != scaleVal:\n",
    "        w1.set(round(float(val)))\n",
    "\n",
    "root = tk.Tk()\n",
    "root.geometry('400x400')\n",
    "root.resizable(False, False)\n",
    "result_box = tk.Label(text='0')\n",
    "\n",
    "for i in range(1, x + 1) : #,text in enumerate(['O','B','A','F','G','K','M','L', 'g']):\n",
    "     ttk.Label(root, text = i).grid(row=0,column=i,padx=10)\n",
    "        \n",
    "for i in range(1, x + 1) : #,text in enumerate(['O','B','A','F','G','K','M','L', 'g']):\n",
    "      ttk.Label(root, text = i).grid(row=i,column=0,padx=10)\n",
    "        \n",
    "w1 = ttk.Scale(root, to=x-1, command=scaleFunc, length=None)\n",
    "w1.grid(row=1,column=1,columnspan=x+1,padx=(10,7),sticky='NSEW')\n",
    "\n",
    "w1.bind(\"<ButtonRelease-1>\",show_values)\n",
    "#ttk.Button(root, text='Show', command=show_values).grid(row=2,column=0,columnspan=8)\n",
    "\n",
    "root.mainloop()"
   ]
  },
  {
   "cell_type": "code",
   "execution_count": 41,
   "metadata": {},
   "outputs": [],
   "source": [
    "from tkinter.ttk import *\n",
    "root = Tk()\n",
    "root.geometry(\"460x100\")\n",
    "root.resizable(0,0)\n",
    "root.title(\"Password Generator\")\n",
    "\n",
    "pw_label = Label(root, text=\"Password\").grid(row=0, column=0, pady=4, padx = 4)\n",
    "length_label = Label(root, text=\"Length\").grid(row=2, column=0, pady=4, padx = 4)\n",
    "pw_input = Entry(root, width=50)\n",
    "length_input = Scale(root, from_=8, to=50, orient=HORIZONTAL, length= 300)\n",
    "length_input.set(30)\n",
    "pw_input.grid(row = 0, column = 1, pady=4, padx = 4)\n",
    "length_input.grid(row = 2, column = 1, pady=4, padx = 4)\n",
    "Button(root, text='Quit', command=root.quit).grid(row=3, column=2, sticky=W, pady=4)\n",
    "#Button(root, text='Generate', command=rand_pw).grid(row=2, column=2, sticky=W, pady=4)\n",
    "#Button(root, text='Copy', command=copy).grid(row=0, column=2, sticky=W, pady=4)\n",
    "lbl = Label(root, text=\"hi\")\n",
    "lbl.grid(row=2, column=1)\n",
    "root.mainloop()"
   ]
  },
  {
   "cell_type": "code",
   "execution_count": 52,
   "metadata": {},
   "outputs": [],
   "source": [
    "import tkinter as tk\n",
    "from tkinter import ttk\n",
    "\n",
    "class CustomScale(ttk.Scale):\n",
    "    def __init__(self, master=None, **kw):\n",
    "        self.variable = kw.pop('variable', tk.DoubleVar(master))\n",
    "        ttk.Scale.__init__(self, master, orient='vertical', variable=self.variable, **kw)\n",
    "        self._style_name = '{}.custom.Vertical.TScale'.format(self) # unique style name to handle the text\n",
    "        self['style'] = self._style_name\n",
    "        self.variable.trace_add('write', self._update_text)\n",
    "        self._update_text()\n",
    "\n",
    "    def _update_text(self, *args):\n",
    "        style.configure(self._style_name, text=\"{:.1f}\".format(self.variable.get()))\n",
    "\n",
    "trough = b'\\x89PNG\\r\\n\\x1a\\n\\x00\\x00\\x00\\rIHDR\\x00\\x00\\x00\\x02\\x00\\x00\\x00\\x90\\x08\\x06\\x00\\x00\\x00\"\\x18\\xbal\\x00\\x00\\x00\\x04sBIT\\x08\\x08\\x08\\x08|\\x08d\\x88\\x00\\x00\\x00\\tpHYs\\x00\\x00\\n\\xfc\\x00\\x00\\n\\xfc\\x01\\x99\\xdb\\xbb\\xef\\x00\\x00\\x00\\x19tEXtSoftware\\x00www.inkscape.org\\x9b\\xee<\\x1a\\x00\\x00\\x00\\x1fIDAT8\\x8dc\\\\\\xb5j\\xd5\\x7f\\x06\\x06\\x06\\x06&\\x06(\\x18e\\x8c2F\\x19\\xa3\\x8c\\x91\\xc9\\x00\\x00\\xf7\\xe7\\x04\\x1dd\\xcc\\xbe\\x83\\x00\\x00\\x00\\x00IEND\\xaeB`\\x82'\n",
    "slider = b'\\x89PNG\\r\\n\\x1a\\n\\x00\\x00\\x00\\rIHDR\\x00\\x00\\x000\\x00\\x00\\x000\\x08\\x06\\x00\\x00\\x00W\\x02\\xf9\\x87\\x00\\x00\\x00\\x04sBIT\\x08\\x08\\x08\\x08|\\x08d\\x88\\x00\\x00\\x00\\tpHYs\\x00\\x00\\x1d\\x87\\x00\\x00\\x1d\\x87\\x01\\x8f\\xe5\\xf1e\\x00\\x00\\x00\\x19tEXtSoftware\\x00www.inkscape.org\\x9b\\xee<\\x1a\\x00\\x00\\x05\\xa4IDATh\\x81\\xd5\\x9a\\xcfo\\x1bE\\x14\\xc7?3\\xcez\\x13\\xb7k7\\xb1\\x9c4\\x07\\xdaT \\xe8\\x11*\\x0e\\xe5\\x04A\\xaa\\x80\\x1cP\\x13\\xe2\\xcd\\x85\\x1eB\\xab\\x1e\\x81\\x0b\\xe2ohOpD\\xa8p(\\x95\\xaa\\x8d\\xa0\\xad\\x04F\\xfc\\x90\\xc2\\xad\\x1c\\xa0\\xaa8\\x15\\xd1\\xaa\\xa4\\x97\\xd6?b\\xe2\\x9f\\xb1\\xb3\\xf6>\\x0e\\xf6\\x86%q\\x9a8mj\\xf7s\\xb2gv\\xc7\\xdf7\\x9e\\x9d7\\xef\\xbdU<\\x06\\x16\\x17\\x17\\x07\\xd2\\xe9\\xf4\\xcb\\xa1P\\xe8\\xb8\\xe7yG\\x95R\\xcf\\x01\\x07\\x80X\\xfb\\x92\\x02\\xb0\"\"\\xb7\\xb5\\xd6\\xb7\\x94R\\xd7\\xe3\\xf1\\xf8\\xef\\x93\\x93\\x93\\x8dG\\xfdm\\xf5(\\xa2s\\xb9\\xdc\\x9b\\xc0)\\x11y\\x0b\\xb0\\xba\\x1c\\xa2(\")\\xa5\\xd4W\\x89D\\xe2\\x87\\xdd\\x1a\\xd3\\xb5\\x01\\x8e\\xe3\\x0c\\x01\\xa7\\x81\\x8f\\x80C~\\xbba\\x18\\x0c\\r\\ra\\x9a&\\x86a\\x10\\n\\x85\\xd0Z\\x03\\xe0y\\x1e\\xcdf\\x13\\xd7u\\xa9\\xd7\\xeb\\xd4j5\\xd6\\xd6\\xd6\\x82\\xc3\\xde\\x13\\x91\\xf3\\xd5j\\xf5\\xc2\\xfc\\xfc|m\\xcf\\x0cXXX\\x98\\x11\\x91O\\x80g|\\xd1\\xd1h\\x14\\xcb\\xb2\\x18\\x18\\x18\\xe8f(\\x1a\\x8d\\x06\\xa5R\\x89b\\xb1\\x88\\xeb\\xba~\\xf3\\x92R\\xea\\x83d2ym\\xa7\\xe3\\xec\\xc8\\x80K\\x97.\\r\\x1b\\x86q\\x01\\x98\\x060M\\x93\\x91\\x91\\x11\\xf6\\xed\\xdb\\xd7\\x95\\xe8N\\x88\\x08\\xd5j\\x95|>O\\xbd^\\xf7\\x9b\\xbf6\\x0c\\xe3\\xcc\\xf4\\xf4\\xf4\\xcav\\xf7ok\\xc0\\xe5\\xcb\\x97\\x8fi\\xad\\xbf\\x01\\x0ek\\xad\\x89\\xc7\\xe3D\\xa3Q\\x94\\xda\\xf5\\xe3\\xb3%\\x85B\\x81\\xe5\\xe5e<\\xcf\\x03\\xb8\\x0b\\xcc\\xd8\\xb6}\\xf3a\\xf7<T\\xc5\\xc2\\xc2\\xc2k\"r\\r\\x88\\x9a\\xa6\\xc9\\xf8\\xf8x\\xd7K\\xa5[\\x1a\\x8d\\x06\\x0f\\x1e<\\xa0V\\xab\\x01\\x94\\x95R\\xef$\\x93\\xc9\\x1f\\xb7\\xba~K\\x03\\x1c\\xc7y\\x1dH\\x01\\xa6eY\\x8c\\x8e\\x8e\\xee\\xc9\\xacwBD\\xc8d2\\x94J%\\x80\\x9a\\x88L\\xcd\\xcd\\xcd-v\\xba\\xb6\\xa3\\xa2\\xf6\\xb2\\xf9\\x05\\xb0b\\xb1\\x18\\x89Db\\xef\\xd4n\\x81\\x88\\x90\\xcb\\xe5(\\x14\\n\\x00E\\xe0\\xd5N\\xcbi\\x93\\x01W\\xae\\\\9\\xe0\\xba\\xee\\r\\xe0\\xc8\\x93\\x9e\\xf9Nd2\\x19\\x8a\\xc5\"\\xc0=\\xe0%\\xdb\\xb6\\xf3\\xc1~\\xbd\\xf1\\x06\\xd7u\\xbf\\x00\\x8e\\x98\\xa6\\xd9s\\xf1\\x00\\x89D\\x82\\xc1\\xc1Ah\\xf9\\x9c\\xcf6\\xf6\\xff\\xcf\\x00\\xc7q\\xa6\\x81i\\xad5\\xe3\\xe3\\xe3=\\x17\\x0f\\xa0\\x94bll\\xccw\\x8a\\xb3\\x8e\\xe3\\xbc\\x1d\\xec_7\\xa0\\xeda?\\x01\\x88\\xc7\\xe3{\\xbe\\xdbt\\x83a\\x18\\xc4\\xe3q\\xff\\xeb\\xa7\\xa9T\\xca\\xf4\\xbf\\x04\\xff\\x81\\xd3\\xc0!\\xd34\\x89F\\xa3OR\\xdf\\x8e\\x88\\xc5b\\x98\\xa6\\t0Q.\\x97\\xdf\\xf3\\xdb5\\xb4\\x0ef\\xb4\\xce6\\x0c\\x0f\\x0f\\xf7\\xc5\\xd2\\xe9\\xc4\\xc8\\xc8\\x88\\xff\\xf1\\xe3\\xb6\\xe6\\x96\\x01\\xd9l\\xf6\\r\\xe0\\x90a\\x18\\xec\\xdf\\xbf\\xbfG\\xf2\\xb6\\'\\x12\\x89\\x10\\x0e\\x87\\x01\\x0e\\xe7r\\xb9\\x13\\xf0\\xdf\\x12:\\x05\\xf4\\xe5\\xd2\\t\\xa2\\x94\\nN\\xf0)\\x00\\xb5\\xb8\\xb88\\x90\\xcdf\\x97\\x81\\xe8\\xc4\\xc4D_=\\xbc\\x9dp]\\x97\\xa5\\xa5%h\\x05Iq\\x9dN\\xa7_\\x06\\xa2\\x86a\\xf4\\xbdxh\\xedH\\x86a\\x00\\xc4<\\xcf;\\xa6C\\xa1\\xd0q\\x80\\xa1\\xa1\\xa1\\xde*\\xeb\\x82H$\\x02\\x80R\\xea\\x15\\xedy\\xdeQ\\xc0\\xdf\\xa2\\x9e\\n\\xda\\xff\\x00\\xc0\\x0b\\xba\\x1d\\x80\\x07\\x1b\\xfb\\x9e\\xf6N\\x84R\\xeay\\r\\x0c\\x03\\x84B\\xa1^j\\xea\\x8a\\x80\\xd6\\x03\\x1a\\xd8\\x0f\\xf4\\xad\\xf3\\xeaD@\\xab\\xb5\\xe94\\xfa\\xb4\\xa1\\x812\\xb4\\x02\\x88\\xa7\\x85\\x80\\xd6\\x92\\x06\\xfe\\x01h6\\x9b=\\x13\\xd4-\\x01\\xad\\xffh\\x11\\xb9\\r\\x04s3}\\x8f\\xafUD\\xfe\\xd2Z\\xeb[@0\\'\\xd3\\xf7\\x04\\xb4\\xfe\\xa9\\x9b\\xcd\\xe6\\xaf\\x00\\xab\\xab\\xab\\xbdS\\xd4%\\xbeV\\x11\\xb9\\xae\\xc7\\xc6\\xc6~\\x03\\n\\xae\\xeb\\xd2h<r\\xb2x\\xcfi4\\x1a\\xfe\\x12Z\\xd1Z\\xdf\\xd0\\x93\\x93\\x93\\r\\x11\\xf9\\x1e\\xf0\\xf30}M@c\\xca\\xb6\\xed\\xa6\\xef\\x07.\\x02~\\xfa\\xa2o\\x11\\x91\\xa0\\x01\\x17\\xa1\\x1d\\xd0\\x8c\\x8e\\x8e\\xfe\\x08\\xdcs]\\x97J\\xa5\\xd2#y\\xdbS\\xa9T\\xfc\\xb4\\xfc\\xdf\\x89D\\xe2gh\\x1b\\xd0^F\\xe7\\x01\\xf2\\xf9\\xfc\\xd6#\\xf4\\x18_\\x9b\\x88\\x9c\\xf3\\x0b\"\\xebG\\x89j\\xb5z\\x01X\\xaa\\xd7\\xeb~:\\xaf\\xafXYY\\xf1g\\xff\\xaeeY_\\xfa\\xed\\xeb\\x06\\xcc\\xcf\\xcf\\xd7D\\xe4C\\x80\\xe5\\xe5\\xe5\\xberl\\x8dFc}\\xf6\\x95R\\xefOMM\\xad;\\x82\\xff\\x1d\\xe6\\xe6\\xe6\\xe6\\xae\\x02_{\\x9eG:\\x9d\\xee\\x8b\\xf3\\x91\\x88p\\xff\\xfe}<\\xcfC)\\xe5$\\x93\\xc9o\\x83\\xfd\\x9bN\\xa3\\x86a\\x9c\\x01\\xee\\xd6j\\xb5\\xbe0\"\\x93\\xc9\\xf8\\x9e\\xf7\\x8e\\x88\\x9c\\xdd\\xd8\\xbf\\xc9\\x80vYg\\x06(\\x96\\xcber\\xb9\\\\O\\x8c\\x10\\x11\\xb2\\xd9\\xac\\xbfm\\x16\\xb4\\xd63\\xb6moz8;\\xc6\\x03\\xb6m\\xdf\\x14\\x91\\x93@\\xadP(\\x90\\xc9d\\x9e\\xa8\\x11\"B:\\x9d\\xf67\\x93\\x9aR\\xea\\xe4\\xec\\xec\\xec\\x1f\\x9d\\xae\\xddI\\x89\\xe9*\\x103M\\x93\\x83\\x07\\x0f\\xeey\\xec\\xbc\\xb1\\xc4D\\xabN\\xf6\\xd3V\\xd7o\\x1bG:\\x8e\\xf3\"\\xf0\\rp\\xc4/\\xf2\\xc5b\\xb1\\xedn\\xdb\\x15\\x1b\\x8a|w\\xb4\\xd63[\\xcd\\xbc\\xcf\\x8e\\x02\\xe1v\\xd5\\xe6s`\\x16\\xfe+\\xb3F\"\\x91G\\x8e\\xa5E\\x84J\\xa5B>\\x9f_/~+\\xa5\\x1c\\x119\\xdbi\\xcdo\\xa4\\xab_o\\x17\\x17>\\x05&\\xa0\\x95\\xde\\xb0,kW\\x85n\\xd7u)\\x97\\xcb\\x94J\\xa5`\\xd5\\xfe\\xaeR\\xea\\xfd\\x8d[\\xe5\\xc3\\xe8z\\xfaR\\xa9\\x94\\xd9\\xce\\xcf\\x7f\\x0c\\x1c\\xf6\\xdb\\xc3\\xe10\\x83\\x83\\x83\\x84\\xc3a\\xc2\\xe1\\xf0\\xfa\\xab\\x06\"\\x82\\x88\\xac\\x1f\\x83\\xd7\\xd6\\xd6X]]\\xdd\\xe8(\\xff\\x16\\x91s\\x96e}\\x19tR{b\\x80O\\xfbe\\x8f\\x13\"\\xf2.0E\\xeb\\xed\\x94nX\\x11\\x91\\xef\\x94R_\\x01?\\xd9\\xb6\\xbd\\xab\\xa0\\xfc\\xb1$\\x83\\x1c\\xc7\\ty\\x9ewL)\\xf5\\x8aR\\xea(\\xf0,\\x10\\x07\\xfc|}\\x11X\\xa6\\xe5\\x8cn\\x89\\xc8u\\xad\\xf5\\x8d\\xdd\\x8a\\x0e\\xf2/#\\xf8\\x81 \\xf2;_\\x08\\x00\\x00\\x00\\x00IEND\\xaeB`\\x82'\n",
    "\n",
    "root = tk.Tk()\n",
    "# create images used for the theme\n",
    "img_trough = tk.PhotoImage(master=root, data=trough)\n",
    "img_slider = tk.PhotoImage(master=root, data=slider)\n",
    "style = ttk.Style(root)\n",
    "# create scale elements\n",
    "style.element_create('custom.Vertical.Scale.trough', 'image', img_trough)\n",
    "style.element_create('custom.Vertical.Scale.slider', 'image', img_slider)\n",
    "# create custom layout\n",
    "style.layout('custom.Vertical.TScale',\n",
    "             [('custom.Vertical.Scale.trough', {'sticky': 'ns'}),\n",
    "              ('custom.Vertical.Scale.slider',\n",
    "               {'side': 'top', 'sticky': '',\n",
    "                'children': [('custom.Vertical.Scale.label', {'sticky': ''})]\n",
    "                })])\n",
    "\n",
    "scale1 = CustomScale(root, from_=0, to=10)\n",
    "scale1.pack(side='left')\n",
    "scale2 = CustomScale(root, from_=0, to=100)\n",
    "scale2.pack(side='left')\n",
    "root.mainloop()"
   ]
  },
  {
   "cell_type": "code",
   "execution_count": 48,
   "metadata": {},
   "outputs": [],
   "source": [
    "path = r'c:/users/mkone/temp/'\n",
    "trough = b'''\\x89PNG\\r\\n\\x1a\\n\\x00\\x00\\x00\\rIHDR\\x00\\x00\\x00\\x02\\x00\n",
    "\\x00\\x00\\x90\\x08\\x06\\x00\\x00\\x00\"\\x18\\xbal\\x00\\x00\\x00\n",
    "\\x04sBIT\\x08\\x08\\x08\\x08|\\x08d\\x88\\x00\\x00\\x00\\tpHYs\\x00\\x00\n",
    "\\n\\xfc\\x00\\x00\\n\\xfc\\x01\\x99\\xdb\\xbb\\xef\\x00\\x00\\x00\n",
    "\\x19tEXtSoftware\\x00www.inkscape.org\\x9b\\xee<\\x1a\n",
    "\\x00\\x00\\x00\\x1fIDAT8\\x8dc\\\\\\xb5j\\xd5\\x7f\\x06\\x06\\x06\n",
    "\\x06&\\x06(\\x18e\\x8c2F\\x19\\xa3\\x8c\\x91\\xc9\\x00\\x00\\xf7\\xe7\n",
    "\\x04\\x1dd\\xcc\\xbe\\x83\\x00\\x00\\x00\\x00IEND\\xaeB`\\x82'''\n",
    "trough = b'\\x89PNG\\r\\n\\x1a\\n\\x00\\x00\\x00\\rIHDR\\x00\\x00\\x00\\x02\\x00\\x00\\x00\\x90\\x08\\x06\\x00\\x00\\x00\"\\x18\\xbal\\x00\\x00\\x00\\x04sBIT\\x08\\x08\\x08\\x08|\\x08d\\x88\\x00\\x00\\x00\\tpHYs\\x00\\x00\\n\\xfc\\x00\\x00\\n\\xfc\\x01\\x99\\xdb\\xbb\\xef\\x00\\x00\\x00\\x19tEXtSoftware\\x00www.inkscape.org\\x9b\\xee<\\x1a\\x00\\x00\\x00\\x1fIDAT8\\x8dc\\\\\\xb5j\\xd5\\x7f\\x06\\x06\\x06\\x06&\\x06(\\x18e\\x8c2F\\x19\\xa3\\x8c\\x91\\xc9\\x00\\x00\\xf7\\xe7\\x04\\x1dd\\xcc\\xbe\\x83\\x00\\x00\\x00\\x00IEND\\xaeB`\\x82'\n",
    "\n",
    "slider = b'\\x89PNG\\r\\n\\x1a\\n\\x00\\x00\\x00\\rIHDR\\x00\\x00\\x000\\x00\\x00\\x000\\x08\\x06\\x00\\x00\\x00W\\x02\\xf9\\x87\\x00\\x00\\x00\\x04sBIT\\x08\\x08\\x08\\x08|\\x08d\\x88\\x00\\x00\\x00\\tpHYs\\x00\\x00\\x1d\\x87\\x00\\x00\\x1d\\x87\\x01\\x8f\\xe5\\xf1e\\x00\\x00\\x00\\x19tEXtSoftware\\x00www.inkscape.org\\x9b\\xee<\\x1a\\x00\\x00\\x05\\xa4IDATh\\x81\\xd5\\x9a\\xcfo\\x1bE\\x14\\xc7?3\\xcez\\x13\\xb7k7\\xb1\\x9c4\\x07\\xdaT \\xe8\\x11*\\x0e\\xe5\\x04A\\xaa\\x80\\x1cP\\x13\\xe2\\xcd\\x85\\x1eB\\xab\\x1e\\x81\\x0b\\xe2ohOpD\\xa8p(\\x95\\xaa\\x8d\\xa0\\xad\\x04F\\xfc\\x90\\xc2\\xad\\x1c\\xa0\\xaa8\\x15\\xd1\\xaa\\xa4\\x97\\xd6?b\\xe2\\x9f\\xb1\\xb3\\xf6>\\x0e\\xf6\\x86%q\\x9a8mj\\xf7s\\xb2gv\\xc7\\xdf7\\x9e\\x9d7\\xef\\xbdU<\\x06\\x16\\x17\\x17\\x07\\xd2\\xe9\\xf4\\xcb\\xa1P\\xe8\\xb8\\xe7yG\\x95R\\xcf\\x01\\x07\\x80X\\xfb\\x92\\x02\\xb0\"\"\\xb7\\xb5\\xd6\\xb7\\x94R\\xd7\\xe3\\xf1\\xf8\\xef\\x93\\x93\\x93\\x8dG\\xfdm\\xf5(\\xa2s\\xb9\\xdc\\x9b\\xc0)\\x11y\\x0b\\xb0\\xba\\x1c\\xa2(\")\\xa5\\xd4W\\x89D\\xe2\\x87\\xdd\\x1a\\xd3\\xb5\\x01\\x8e\\xe3\\x0c\\x01\\xa7\\x81\\x8f\\x80C~\\xbba\\x18\\x0c\\r\\ra\\x9a&\\x86a\\x10\\n\\x85\\xd0Z\\x03\\xe0y\\x1e\\xcdf\\x13\\xd7u\\xa9\\xd7\\xeb\\xd4j5\\xd6\\xd6\\xd6\\x82\\xc3\\xde\\x13\\x91\\xf3\\xd5j\\xf5\\xc2\\xfc\\xfc|m\\xcf\\x0cXXX\\x98\\x11\\x91O\\x80g|\\xd1\\xd1h\\x14\\xcb\\xb2\\x18\\x18\\x18\\xe8f(\\x1a\\x8d\\x06\\xa5R\\x89b\\xb1\\x88\\xeb\\xba~\\xf3\\x92R\\xea\\x83d2ym\\xa7\\xe3\\xec\\xc8\\x80K\\x97.\\r\\x1b\\x86q\\x01\\x98\\x060M\\x93\\x91\\x91\\x11\\xf6\\xed\\xdb\\xd7\\x95\\xe8N\\x88\\x08\\xd5j\\x95|>O\\xbd^\\xf7\\x9b\\xbf6\\x0c\\xe3\\xcc\\xf4\\xf4\\xf4\\xcav\\xf7ok\\xc0\\xe5\\xcb\\x97\\x8fi\\xad\\xbf\\x01\\x0ek\\xad\\x89\\xc7\\xe3D\\xa3Q\\x94\\xda\\xf5\\xe3\\xb3%\\x85B\\x81\\xe5\\xe5e<\\xcf\\x03\\xb8\\x0b\\xcc\\xd8\\xb6}\\xf3a\\xf7<T\\xc5\\xc2\\xc2\\xc2k\"r\\r\\x88\\x9a\\xa6\\xc9\\xf8\\xf8x\\xd7K\\xa5[\\x1a\\x8d\\x06\\x0f\\x1e<\\xa0V\\xab\\x01\\x94\\x95R\\xef$\\x93\\xc9\\x1f\\xb7\\xba~K\\x03\\x1c\\xc7y\\x1dH\\x01\\xa6eY\\x8c\\x8e\\x8e\\xee\\xc9\\xacwBD\\xc8d2\\x94J%\\x80\\x9a\\x88L\\xcd\\xcd\\xcd-v\\xba\\xb6\\xa3\\xa2\\xf6\\xb2\\xf9\\x05\\xb0b\\xb1\\x18\\x89Db\\xef\\xd4n\\x81\\x88\\x90\\xcb\\xe5(\\x14\\n\\x00E\\xe0\\xd5N\\xcbi\\x93\\x01W\\xae\\\\9\\xe0\\xba\\xee\\r\\xe0\\xc8\\x93\\x9e\\xf9Nd2\\x19\\x8a\\xc5\"\\xc0=\\xe0%\\xdb\\xb6\\xf3\\xc1~\\xbd\\xf1\\x06\\xd7u\\xbf\\x00\\x8e\\x98\\xa6\\xd9s\\xf1\\x00\\x89D\\x82\\xc1\\xc1Ah\\xf9\\x9c\\xcf6\\xf6\\xff\\xcf\\x00\\xc7q\\xa6\\x81i\\xad5\\xe3\\xe3\\xe3=\\x17\\x0f\\xa0\\x94bll\\xccw\\x8a\\xb3\\x8e\\xe3\\xbc\\x1d\\xec_7\\xa0\\xeda?\\x01\\x88\\xc7\\xe3{\\xbe\\xdbt\\x83a\\x18\\xc4\\xe3q\\xff\\xeb\\xa7\\xa9T\\xca\\xf4\\xbf\\x04\\xff\\x81\\xd3\\xc0!\\xd34\\x89F\\xa3OR\\xdf\\x8e\\x88\\xc5b\\x98\\xa6\\t0Q.\\x97\\xdf\\xf3\\xdb5\\xb4\\x0ef\\xb4\\xce6\\x0c\\x0f\\x0f\\xf7\\xc5\\xd2\\xe9\\xc4\\xc8\\xc8\\x88\\xff\\xf1\\xe3\\xb6\\xe6\\x96\\x01\\xd9l\\xf6\\r\\xe0\\x90a\\x18\\xec\\xdf\\xbf\\xbfG\\xf2\\xb6\\'\\x12\\x89\\x10\\x0e\\x87\\x01\\x0e\\xe7r\\xb9\\x13\\xf0\\xdf\\x12:\\x05\\xf4\\xe5\\xd2\\t\\xa2\\x94\\nN\\xf0)\\x00\\xb5\\xb8\\xb88\\x90\\xcdf\\x97\\x81\\xe8\\xc4\\xc4D_=\\xbc\\x9dp]\\x97\\xa5\\xa5%h\\x05Iq\\x9dN\\xa7_\\x06\\xa2\\x86a\\xf4\\xbdxh\\xedH\\x86a\\x00\\xc4<\\xcf;\\xa6C\\xa1\\xd0q\\x80\\xa1\\xa1\\xa1\\xde*\\xeb\\x82H$\\x02\\x80R\\xea\\x15\\xedy\\xdeQ\\xc0\\xdf\\xa2\\x9e\\n\\xda\\xff\\x00\\xc0\\x0b\\xba\\x1d\\x80\\x07\\x1b\\xfb\\x9e\\xf6N\\x84R\\xeay\\r\\x0c\\x03\\x84B\\xa1^j\\xea\\x8a\\x80\\xd6\\x03\\x1a\\xd8\\x0f\\xf4\\xad\\xf3\\xeaD@\\xab\\xb5\\xe94\\xfa\\xb4\\xa1\\x812\\xb4\\x02\\x88\\xa7\\x85\\x80\\xd6\\x92\\x06\\xfe\\x01h6\\x9b=\\x13\\xd4-\\x01\\xad\\xffh\\x11\\xb9\\r\\x04s3}\\x8f\\xafUD\\xfe\\xd2Z\\xeb[@0\\'\\xd3\\xf7\\x04\\xb4\\xfe\\xa9\\x9b\\xcd\\xe6\\xaf\\x00\\xab\\xab\\xab\\xbdS\\xd4%\\xbeV\\x11\\xb9\\xae\\xc7\\xc6\\xc6~\\x03\\n\\xae\\xeb\\xd2h<r\\xb2x\\xcfi4\\x1a\\xfe\\x12Z\\xd1Z\\xdf\\xd0\\x93\\x93\\x93\\r\\x11\\xf9\\x1e\\xf0\\xf30}M@c\\xca\\xb6\\xed\\xa6\\xef\\x07.\\x02~\\xfa\\xa2o\\x11\\x91\\xa0\\x01\\x17\\xa1\\x1d\\xd0\\x8c\\x8e\\x8e\\xfe\\x08\\xdcs]\\x97J\\xa5\\xd2#y\\xdbS\\xa9T\\xfc\\xb4\\xfc\\xdf\\x89D\\xe2gh\\x1b\\xd0^F\\xe7\\x01\\xf2\\xf9\\xfc\\xd6#\\xf4\\x18_\\x9b\\x88\\x9c\\xf3\\x0b\"\\xebG\\x89j\\xb5z\\x01X\\xaa\\xd7\\xeb~:\\xaf\\xafXYY\\xf1g\\xff\\xaeeY_\\xfa\\xed\\xeb\\x06\\xcc\\xcf\\xcf\\xd7D\\xe4C\\x80\\xe5\\xe5\\xe5\\xberl\\x8dFc}\\xf6\\x95R\\xefOMM\\xad;\\x82\\xff\\x1d\\xe6\\xe6\\xe6\\xe6\\xae\\x02_{\\x9eG:\\x9d\\xee\\x8b\\xf3\\x91\\x88p\\xff\\xfe}<\\xcfC)\\xe5$\\x93\\xc9o\\x83\\xfd\\x9bN\\xa3\\x86a\\x9c\\x01\\xee\\xd6j\\xb5\\xbe0\"\\x93\\xc9\\xf8\\x9e\\xf7\\x8e\\x88\\x9c\\xdd\\xd8\\xbf\\xc9\\x80vYg\\x06(\\x96\\xcber\\xb9\\\\O\\x8c\\x10\\x11\\xb2\\xd9\\xac\\xbfm\\x16\\xb4\\xd63\\xb6moz8;\\xc6\\x03\\xb6m\\xdf\\x14\\x91\\x93@\\xadP(\\x90\\xc9d\\x9e\\xa8\\x11\"B:\\x9d\\xf67\\x93\\x9aR\\xea\\xe4\\xec\\xec\\xec\\x1f\\x9d\\xae\\xddI\\x89\\xe9*\\x103M\\x93\\x83\\x07\\x0f\\xeey\\xec\\xbc\\xb1\\xc4D\\xabN\\xf6\\xd3V\\xd7o\\x1bG:\\x8e\\xf3\"\\xf0\\rp\\xc4/\\xf2\\xc5b\\xb1\\xedn\\xdb\\x15\\x1b\\x8a|w\\xb4\\xd63[\\xcd\\xbc\\xcf\\x8e\\x02\\xe1v\\xd5\\xe6s`\\x16\\xfe+\\xb3F\"\\x91G\\x8e\\xa5E\\x84J\\xa5B>\\x9f_/~+\\xa5\\x1c\\x119\\xdbi\\xcdo\\xa4\\xab_o\\x17\\x17>\\x05&\\xa0\\x95\\xde\\xb0,kW\\x85n\\xd7u)\\x97\\xcb\\x94J\\xa5`\\xd5\\xfe\\xaeR\\xea\\xfd\\x8d[\\xe5\\xc3\\xe8z\\xfaR\\xa9\\x94\\xd9\\xce\\xcf\\x7f\\x0c\\x1c\\xf6\\xdb\\xc3\\xe10\\x83\\x83\\x83\\x84\\xc3a\\xc2\\xe1\\xf0\\xfa\\xab\\x06\"\\x82\\x88\\xac\\x1f\\x83\\xd7\\xd6\\xd6X]]\\xdd\\xe8(\\xff\\x16\\x91s\\x96e}\\x19tR{b\\x80O\\xfbe\\x8f\\x13\"\\xf2.0E\\xeb\\xed\\x94nX\\x11\\x91\\xef\\x94R_\\x01?\\xd9\\xb6\\xbd\\xab\\xa0\\xfc\\xb1$\\x83\\x1c\\xc7\\ty\\x9ewL)\\xf5\\x8aR\\xea(\\xf0,\\x10\\x07\\xfc|}\\x11X\\xa6\\xe5\\x8cn\\x89\\xc8u\\xad\\xf5\\x8d\\xdd\\x8a\\x0e\\xf2/#\\xf8\\x81 \\xf2;_\\x08\\x00\\x00\\x00\\x00IEND\\xaeB`\\x82'\n",
    "\n",
    "with open(''.join((path, 'trough.png')), 'wb') as fout:\n",
    "    fout.write(slider)"
   ]
  }
 ],
 "metadata": {
  "kernelspec": {
   "display_name": "Python 3",
   "language": "python",
   "name": "python3"
  },
  "language_info": {
   "codemirror_mode": {
    "name": "ipython",
    "version": 3
   },
   "file_extension": ".py",
   "mimetype": "text/x-python",
   "name": "python",
   "nbconvert_exporter": "python",
   "pygments_lexer": "ipython3",
   "version": "3.7.6"
  }
 },
 "nbformat": 4,
 "nbformat_minor": 4
}

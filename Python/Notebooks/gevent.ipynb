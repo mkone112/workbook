{
 "cells": [
  {
   "cell_type": "code",
   "execution_count": 3,
   "metadata": {},
   "outputs": [],
   "source": [
    "from gevent import select"
   ]
  },
  {
   "cell_type": "code",
   "execution_count": 4,
   "metadata": {},
   "outputs": [
    {
     "name": "stdout",
     "output_type": "stream",
     "text": [
      "Help on module gevent.select in gevent:\n",
      "\n",
      "NAME\n",
      "    gevent.select - Waiting for I/O completion.\n",
      "\n",
      "CLASSES\n",
      "    builtins.Exception(builtins.BaseException)\n",
      "        builtins.OSError\n",
      "    \n",
      "    error = class OSError(Exception)\n",
      "     |  Base class for I/O related errors.\n",
      "     |  \n",
      "     |  Method resolution order:\n",
      "     |      OSError\n",
      "     |      Exception\n",
      "     |      BaseException\n",
      "     |      object\n",
      "     |  \n",
      "     |  Built-in subclasses:\n",
      "     |      BlockingIOError\n",
      "     |      ChildProcessError\n",
      "     |      ConnectionError\n",
      "     |      FileExistsError\n",
      "     |      ... and 7 other subclasses\n",
      "     |  \n",
      "     |  Methods defined here:\n",
      "     |  \n",
      "     |  __init__(self, /, *args, **kwargs)\n",
      "     |      Initialize self.  See help(type(self)) for accurate signature.\n",
      "     |  \n",
      "     |  __reduce__(...)\n",
      "     |      Helper for pickle.\n",
      "     |  \n",
      "     |  __str__(self, /)\n",
      "     |      Return str(self).\n",
      "     |  \n",
      "     |  ----------------------------------------------------------------------\n",
      "     |  Static methods defined here:\n",
      "     |  \n",
      "     |  __new__(*args, **kwargs) from builtins.type\n",
      "     |      Create and return a new object.  See help(type) for accurate signature.\n",
      "     |  \n",
      "     |  ----------------------------------------------------------------------\n",
      "     |  Data descriptors defined here:\n",
      "     |  \n",
      "     |  characters_written\n",
      "     |  \n",
      "     |  errno\n",
      "     |      POSIX exception code\n",
      "     |  \n",
      "     |  filename\n",
      "     |      exception filename\n",
      "     |  \n",
      "     |  filename2\n",
      "     |      second exception filename\n",
      "     |  \n",
      "     |  strerror\n",
      "     |      exception strerror\n",
      "     |  \n",
      "     |  winerror\n",
      "     |      Win32 exception code\n",
      "     |  \n",
      "     |  ----------------------------------------------------------------------\n",
      "     |  Methods inherited from BaseException:\n",
      "     |  \n",
      "     |  __delattr__(self, name, /)\n",
      "     |      Implement delattr(self, name).\n",
      "     |  \n",
      "     |  __getattribute__(self, name, /)\n",
      "     |      Return getattr(self, name).\n",
      "     |  \n",
      "     |  __repr__(self, /)\n",
      "     |      Return repr(self).\n",
      "     |  \n",
      "     |  __setattr__(self, name, value, /)\n",
      "     |      Implement setattr(self, name, value).\n",
      "     |  \n",
      "     |  __setstate__(...)\n",
      "     |  \n",
      "     |  with_traceback(...)\n",
      "     |      Exception.with_traceback(tb) --\n",
      "     |      set self.__traceback__ to tb and return self.\n",
      "     |  \n",
      "     |  ----------------------------------------------------------------------\n",
      "     |  Data descriptors inherited from BaseException:\n",
      "     |  \n",
      "     |  __cause__\n",
      "     |      exception cause\n",
      "     |  \n",
      "     |  __context__\n",
      "     |      exception context\n",
      "     |  \n",
      "     |  __dict__\n",
      "     |  \n",
      "     |  __suppress_context__\n",
      "     |  \n",
      "     |  __traceback__\n",
      "     |  \n",
      "     |  args\n",
      "\n",
      "FUNCTIONS\n",
      "    select(rlist, wlist, xlist, timeout=None)\n",
      "        An implementation of :meth:`select.select` that blocks only the current greenlet.\n",
      "        \n",
      "        .. caution:: *xlist* is ignored.\n",
      "        \n",
      "        .. versionchanged:: 1.2a1\n",
      "           Raise a :exc:`ValueError` if timeout is negative. This matches Python 3's\n",
      "           behaviour (Python 2 would raise a ``select.error``). Previously gevent had\n",
      "           undefined behaviour.\n",
      "        .. versionchanged:: 1.2a1\n",
      "           Raise an exception if any of the file descriptors are invalid.\n",
      "\n",
      "DATA\n",
      "    __all__ = ['error', 'select']\n",
      "    __extra__ = ['poll']\n",
      "    __implements__ = ['select']\n",
      "    __imports__ = []\n",
      "\n",
      "FILE\n",
      "    c:\\users\\mk\\anaconda3\\lib\\site-packages\\gevent\\select.py\n",
      "\n",
      "\n"
     ]
    }
   ],
   "source": [
    "help(select)"
   ]
  },
  {
   "cell_type": "code",
   "execution_count": 9,
   "metadata": {},
   "outputs": [
    {
     "data": {
      "text/plain": [
       "<module 'gevent.select' from 'C:\\\\Users\\\\mk\\\\anaconda3\\\\lib\\\\site-packages\\\\gevent\\\\select.py'>"
      ]
     },
     "execution_count": 9,
     "metadata": {},
     "output_type": "execute_result"
    }
   ],
   "source": [
    "import gevent\n",
    "gevent.select"
   ]
  },
  {
   "cell_type": "code",
   "execution_count": 10,
   "metadata": {},
   "outputs": [
    {
     "name": "stdout",
     "output_type": "stream",
     "text": [
      "Help on method spawn in module gevent._gevent_cgreenlet:\n",
      "\n",
      "spawn(*args, **kwargs) method of builtins.type instance\n",
      "    Greenlet.spawn(type cls, *args, **kwargs)\n",
      "    \n",
      "    spawn(function, *args, **kwargs) -> Greenlet\n",
      "    \n",
      "    Create a new :class:`Greenlet` object and schedule it to run ``function(*args, **kwargs)``.\n",
      "    This can be used as ``gevent.spawn`` or ``Greenlet.spawn``.\n",
      "    \n",
      "    The arguments are passed to :meth:`Greenlet.__init__`.\n",
      "    \n",
      "    .. versionchanged:: 1.1b1\n",
      "        If a *function* is given that is not callable, immediately raise a :exc:`TypeError`\n",
      "        instead of spawning a greenlet that will raise an uncaught TypeError.\n",
      "\n"
     ]
    }
   ],
   "source": [
    "help(gevent.spawn)"
   ]
  },
  {
   "cell_type": "code",
   "execution_count": 21,
   "metadata": {},
   "outputs": [
    {
     "name": "stdout",
     "output_type": "stream",
     "text": [
      "\n"
     ]
    }
   ],
   "source": [
    "gevent_run = gevent.joinall((gevent.spawn(print),))[0]"
   ]
  },
  {
   "cell_type": "code",
   "execution_count": 23,
   "metadata": {},
   "outputs": [
    {
     "data": {
      "text/plain": [
       "['GreenletExit',\n",
       " '__bool__',\n",
       " '__class__',\n",
       " '__delattr__',\n",
       " '__dict__',\n",
       " '__dir__',\n",
       " '__doc__',\n",
       " '__eq__',\n",
       " '__format__',\n",
       " '__ge__',\n",
       " '__getattribute__',\n",
       " '__getstate__',\n",
       " '__gt__',\n",
       " '__hash__',\n",
       " '__init__',\n",
       " '__init_subclass__',\n",
       " '__le__',\n",
       " '__lt__',\n",
       " '__ne__',\n",
       " '__new__',\n",
       " '__pyx_vtable__',\n",
       " '__reduce__',\n",
       " '__reduce_ex__',\n",
       " '__repr__',\n",
       " '__setattr__',\n",
       " '__sizeof__',\n",
       " '__str__',\n",
       " '__subclasshook__',\n",
       " '_formatinfo',\n",
       " '_maybe_kill_before_start',\n",
       " '_notify_links',\n",
       " '_raise_exception',\n",
       " '_run',\n",
       " '_stack_saved',\n",
       " 'add_spawn_callback',\n",
       " 'args',\n",
       " 'dead',\n",
       " 'error',\n",
       " 'exc_info',\n",
       " 'exception',\n",
       " 'get',\n",
       " 'getcurrent',\n",
       " 'gettrace',\n",
       " 'gr_frame',\n",
       " 'has_links',\n",
       " 'join',\n",
       " 'kill',\n",
       " 'kwargs',\n",
       " 'link',\n",
       " 'link_exception',\n",
       " 'link_value',\n",
       " 'loop',\n",
       " 'minimal_ident',\n",
       " 'name',\n",
       " 'parent',\n",
       " 'rawlink',\n",
       " 'ready',\n",
       " 'remove_spawn_callback',\n",
       " 'run',\n",
       " 'settrace',\n",
       " 'spawn',\n",
       " 'spawn_later',\n",
       " 'spawn_tree_locals',\n",
       " 'spawning_greenlet',\n",
       " 'spawning_stack',\n",
       " 'spawning_stack_limit',\n",
       " 'start',\n",
       " 'start_later',\n",
       " 'started',\n",
       " 'successful',\n",
       " 'switch',\n",
       " 'throw',\n",
       " 'unlink',\n",
       " 'unlink_all',\n",
       " 'value']"
      ]
     },
     "execution_count": 23,
     "metadata": {},
     "output_type": "execute_result"
    }
   ],
   "source": [
    "dir(gevent_run)"
   ]
  },
  {
   "cell_type": "code",
   "execution_count": 27,
   "metadata": {},
   "outputs": [
    {
     "data": {
      "text/plain": [
       "True"
      ]
     },
     "execution_count": 27,
     "metadata": {},
     "output_type": "execute_result"
    }
   ],
   "source": [
    "gevent_run.successful()"
   ]
  }
 ],
 "metadata": {
  "kernelspec": {
   "display_name": "Python 3",
   "language": "python",
   "name": "python3"
  },
  "language_info": {
   "codemirror_mode": {
    "name": "ipython",
    "version": 3
   },
   "file_extension": ".py",
   "mimetype": "text/x-python",
   "name": "python",
   "nbconvert_exporter": "python",
   "pygments_lexer": "ipython3",
   "version": "3.8.3"
  }
 },
 "nbformat": 4,
 "nbformat_minor": 4
}
